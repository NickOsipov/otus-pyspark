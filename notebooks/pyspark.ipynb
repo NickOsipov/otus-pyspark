{
 "cells": [
  {
   "cell_type": "markdown",
   "id": "88bb5194",
   "metadata": {},
   "source": [
    "## Пример на pyspark\n",
    "\n",
    "В качестве набора данных для примера будем использовать данные конкурса про ответы студентов на тесты\n",
    "https://www.kaggle.com/c/riiid-test-answer-prediction"
   ]
  },
  {
   "cell_type": "markdown",
   "id": "a998f2be",
   "metadata": {},
   "source": [
    "При подключении к spark драйверу установим лимиты по памяти и по числу ядер. Также выберем номер порта для Spark UI"
   ]
  },
  {
   "cell_type": "markdown",
   "id": "e8712420",
   "metadata": {},
   "source": [
    "Нужно выбрать уникальное имя приложения и номер порта, чтобы не войти в коллизию с другими пользователями"
   ]
  },
  {
   "cell_type": "code",
   "execution_count": 1,
   "id": "1f649736",
   "metadata": {},
   "outputs": [
    {
     "name": "stdout",
     "output_type": "stream",
     "text": [
      "Populating the interactive namespace from numpy and matplotlib\n"
     ]
    }
   ],
   "source": [
    "%pylab inline\n",
    "import pandas as pd\n",
    "import numpy as np"
   ]
  },
  {
   "cell_type": "code",
   "execution_count": 2,
   "id": "92de1abe",
   "metadata": {},
   "outputs": [],
   "source": [
    "import findspark\n",
    "findspark.init()"
   ]
  },
  {
   "cell_type": "code",
   "execution_count": 3,
   "id": "96fb2f68",
   "metadata": {},
   "outputs": [],
   "source": [
    "from pyspark.sql import SparkSession\n",
    "\n",
    "spark = (\n",
    "    SparkSession\n",
    "        .builder\n",
    "        .appName(\"OTUS-PySpark-Notebook\")\n",
    "        .config(\"spark.dynamicAllocation.enabled\", \"true\")\n",
    "        .config(\"spark.executor.memory\", \"2g\")\n",
    "        .config(\"spark.driver.memory\", \"1g\")\n",
    "        .getOrCreate()\n",
    ")"
   ]
  },
  {
   "cell_type": "markdown",
   "id": "68ec076d",
   "metadata": {},
   "source": [
    "Данные будем читать из заранее сконвертированного parquet"
   ]
  },
  {
   "cell_type": "code",
   "execution_count": 4,
   "id": "cdaeeca0",
   "metadata": {},
   "outputs": [],
   "source": [
    "df = spark.read.parquet(\"data/train.parquet\")"
   ]
  },
  {
   "cell_type": "markdown",
   "id": "0e7c6c12",
   "metadata": {},
   "source": [
    "Схема данных и первые 10 записей"
   ]
  },
  {
   "cell_type": "code",
   "execution_count": 6,
   "id": "c5b7c8f2",
   "metadata": {},
   "outputs": [
    {
     "name": "stdout",
     "output_type": "stream",
     "text": [
      "root\n",
      " |-- row_id: integer (nullable = true)\n",
      " |-- timestamp: long (nullable = true)\n",
      " |-- user_id: integer (nullable = true)\n",
      " |-- content_id: integer (nullable = true)\n",
      " |-- content_type_id: integer (nullable = true)\n",
      " |-- task_container_id: integer (nullable = true)\n",
      " |-- user_answer: integer (nullable = true)\n",
      " |-- answered_correctly: integer (nullable = true)\n",
      " |-- prior_question_elapsed_time: double (nullable = true)\n",
      " |-- prior_question_had_explanation: boolean (nullable = true)\n",
      "\n"
     ]
    }
   ],
   "source": [
    "df.printSchema()"
   ]
  },
  {
   "cell_type": "code",
   "execution_count": 7,
   "id": "eed2615b",
   "metadata": {},
   "outputs": [
    {
     "name": "stdout",
     "output_type": "stream",
     "text": [
      "+--------+-----------+---------+----------+---------------+-----------------+-----------+------------------+---------------------------+------------------------------+\n",
      "|  row_id|  timestamp|  user_id|content_id|content_type_id|task_container_id|user_answer|answered_correctly|prior_question_elapsed_time|prior_question_had_explanation|\n",
      "+--------+-----------+---------+----------+---------------+-----------------+-----------+------------------+---------------------------+------------------------------+\n",
      "|10059541|  953601099|218331526|      1114|              0|              650|          3|                 1|                    17000.0|                          true|\n",
      "| 9882908|26098315317|214467360|       721|              0|              375|          1|                 1|                    15000.0|                          true|\n",
      "|11032662|  590935189|239834028|       231|              0|              277|          1|                 1|                    18000.0|                          true|\n",
      "|11487463|13117283988|249140958|      7219|              0|               15|          0|                 0|                    31750.0|                         false|\n",
      "|10193731|  178006028|220767027|      4144|              0|              304|          0|                 1|                    13000.0|                          true|\n",
      "|11451805| 1054272891|248526815|      9593|              0|              307|          0|                 0|                    14000.0|                          true|\n",
      "| 9751638| 4175717773|212002144|      8161|              0|             4604|          2|                 0|                    44000.0|                          true|\n",
      "|11102000|26201536504|241050300|      8014|              0|              316|          0|                 1|                    48000.0|                          true|\n",
      "|11063074|    1030127|240427856|       609|              0|               21|          1|                 1|                    18000.0|                          true|\n",
      "|11747704|   51839059|254609209|       665|              0|               42|          1|                 1|                    15000.0|                          true|\n",
      "+--------+-----------+---------+----------+---------------+-----------------+-----------+------------------+---------------------------+------------------------------+\n",
      "only showing top 10 rows\n",
      "\n"
     ]
    }
   ],
   "source": [
    "df.show(10)"
   ]
  },
  {
   "cell_type": "code",
   "execution_count": 8,
   "id": "8ec75696",
   "metadata": {},
   "outputs": [
    {
     "data": {
      "text/html": [
       "<table border='1'>\n",
       "<tr><th>row_id</th><th>timestamp</th><th>user_id</th><th>content_id</th><th>content_type_id</th><th>task_container_id</th><th>user_answer</th><th>answered_correctly</th><th>prior_question_elapsed_time</th><th>prior_question_had_explanation</th></tr>\n",
       "<tr><td>10059541</td><td>953601099</td><td>218331526</td><td>1114</td><td>0</td><td>650</td><td>3</td><td>1</td><td>17000.0</td><td>true</td></tr>\n",
       "<tr><td>9882908</td><td>26098315317</td><td>214467360</td><td>721</td><td>0</td><td>375</td><td>1</td><td>1</td><td>15000.0</td><td>true</td></tr>\n",
       "<tr><td>11032662</td><td>590935189</td><td>239834028</td><td>231</td><td>0</td><td>277</td><td>1</td><td>1</td><td>18000.0</td><td>true</td></tr>\n",
       "<tr><td>11487463</td><td>13117283988</td><td>249140958</td><td>7219</td><td>0</td><td>15</td><td>0</td><td>0</td><td>31750.0</td><td>false</td></tr>\n",
       "<tr><td>10193731</td><td>178006028</td><td>220767027</td><td>4144</td><td>0</td><td>304</td><td>0</td><td>1</td><td>13000.0</td><td>true</td></tr>\n",
       "<tr><td>11451805</td><td>1054272891</td><td>248526815</td><td>9593</td><td>0</td><td>307</td><td>0</td><td>0</td><td>14000.0</td><td>true</td></tr>\n",
       "<tr><td>9751638</td><td>4175717773</td><td>212002144</td><td>8161</td><td>0</td><td>4604</td><td>2</td><td>0</td><td>44000.0</td><td>true</td></tr>\n",
       "<tr><td>11102000</td><td>26201536504</td><td>241050300</td><td>8014</td><td>0</td><td>316</td><td>0</td><td>1</td><td>48000.0</td><td>true</td></tr>\n",
       "<tr><td>11063074</td><td>1030127</td><td>240427856</td><td>609</td><td>0</td><td>21</td><td>1</td><td>1</td><td>18000.0</td><td>true</td></tr>\n",
       "<tr><td>11747704</td><td>51839059</td><td>254609209</td><td>665</td><td>0</td><td>42</td><td>1</td><td>1</td><td>15000.0</td><td>true</td></tr>\n",
       "<tr><td>10988082</td><td>667567</td><td>238857398</td><td>10688</td><td>0</td><td>14</td><td>0</td><td>1</td><td>15000.0</td><td>true</td></tr>\n",
       "<tr><td>10714102</td><td>7523275987</td><td>233484181</td><td>2999</td><td>0</td><td>2701</td><td>0</td><td>1</td><td>73400.0</td><td>true</td></tr>\n",
       "<tr><td>10700423</td><td>25220856713</td><td>233282197</td><td>10635</td><td>0</td><td>5701</td><td>0</td><td>1</td><td>22000.0</td><td>true</td></tr>\n",
       "<tr><td>11287421</td><td>14463427080</td><td>244789008</td><td>1176</td><td>0</td><td>40</td><td>3</td><td>0</td><td>16000.0</td><td>true</td></tr>\n",
       "<tr><td>11085187</td><td>278568</td><td>240730881</td><td>3365</td><td>0</td><td>5</td><td>2</td><td>1</td><td>30333.0</td><td>false</td></tr>\n",
       "<tr><td>11179816</td><td>5739874825</td><td>242867213</td><td>4762</td><td>0</td><td>2374</td><td>1</td><td>1</td><td>7000.0</td><td>true</td></tr>\n",
       "<tr><td>11886328</td><td>3597982695</td><td>257806737</td><td>5131</td><td>0</td><td>2583</td><td>2</td><td>1</td><td>10000.0</td><td>true</td></tr>\n",
       "<tr><td>9931891</td><td>6414302182</td><td>215620128</td><td>576</td><td>0</td><td>230</td><td>0</td><td>1</td><td>14000.0</td><td>true</td></tr>\n",
       "<tr><td>11272808</td><td>3992672659</td><td>244317655</td><td>1326</td><td>0</td><td>305</td><td>3</td><td>0</td><td>18000.0</td><td>true</td></tr>\n",
       "<tr><td>10267774</td><td>539457</td><td>222508081</td><td>7876</td><td>0</td><td>23</td><td>0</td><td>0</td><td>18000.0</td><td>false</td></tr>\n",
       "</table>\n",
       "only showing top 20 rows\n"
      ],
      "text/plain": [
       "+--------+-----------+---------+----------+---------------+-----------------+-----------+------------------+---------------------------+------------------------------+\n",
       "|  row_id|  timestamp|  user_id|content_id|content_type_id|task_container_id|user_answer|answered_correctly|prior_question_elapsed_time|prior_question_had_explanation|\n",
       "+--------+-----------+---------+----------+---------------+-----------------+-----------+------------------+---------------------------+------------------------------+\n",
       "|10059541|  953601099|218331526|      1114|              0|              650|          3|                 1|                    17000.0|                          true|\n",
       "| 9882908|26098315317|214467360|       721|              0|              375|          1|                 1|                    15000.0|                          true|\n",
       "|11032662|  590935189|239834028|       231|              0|              277|          1|                 1|                    18000.0|                          true|\n",
       "|11487463|13117283988|249140958|      7219|              0|               15|          0|                 0|                    31750.0|                         false|\n",
       "|10193731|  178006028|220767027|      4144|              0|              304|          0|                 1|                    13000.0|                          true|\n",
       "|11451805| 1054272891|248526815|      9593|              0|              307|          0|                 0|                    14000.0|                          true|\n",
       "| 9751638| 4175717773|212002144|      8161|              0|             4604|          2|                 0|                    44000.0|                          true|\n",
       "|11102000|26201536504|241050300|      8014|              0|              316|          0|                 1|                    48000.0|                          true|\n",
       "|11063074|    1030127|240427856|       609|              0|               21|          1|                 1|                    18000.0|                          true|\n",
       "|11747704|   51839059|254609209|       665|              0|               42|          1|                 1|                    15000.0|                          true|\n",
       "|10988082|     667567|238857398|     10688|              0|               14|          0|                 1|                    15000.0|                          true|\n",
       "|10714102| 7523275987|233484181|      2999|              0|             2701|          0|                 1|                    73400.0|                          true|\n",
       "|10700423|25220856713|233282197|     10635|              0|             5701|          0|                 1|                    22000.0|                          true|\n",
       "|11287421|14463427080|244789008|      1176|              0|               40|          3|                 0|                    16000.0|                          true|\n",
       "|11085187|     278568|240730881|      3365|              0|                5|          2|                 1|                    30333.0|                         false|\n",
       "|11179816| 5739874825|242867213|      4762|              0|             2374|          1|                 1|                     7000.0|                          true|\n",
       "|11886328| 3597982695|257806737|      5131|              0|             2583|          2|                 1|                    10000.0|                          true|\n",
       "| 9931891| 6414302182|215620128|       576|              0|              230|          0|                 1|                    14000.0|                          true|\n",
       "|11272808| 3992672659|244317655|      1326|              0|              305|          3|                 0|                    18000.0|                          true|\n",
       "|10267774|     539457|222508081|      7876|              0|               23|          0|                 0|                    18000.0|                         false|\n",
       "+--------+-----------+---------+----------+---------------+-----------------+-----------+------------------+---------------------------+------------------------------+\n",
       "only showing top 20 rows"
      ]
     },
     "execution_count": 8,
     "metadata": {},
     "output_type": "execute_result"
    }
   ],
   "source": [
    "spark.conf.set('spark.sql.repl.eagerEval.enabled', True)  # to pretty print pyspark.DataFrame in jupyter\n",
    "df"
   ]
  },
  {
   "cell_type": "markdown",
   "id": "38fa908b",
   "metadata": {},
   "source": [
    "Замерим время выполнения простых запросов с группировками"
   ]
  },
  {
   "cell_type": "code",
   "execution_count": 9,
   "id": "8dd4e938",
   "metadata": {},
   "outputs": [],
   "source": [
    "from pyspark.sql import functions as f\n",
    "from pyspark.sql.functions import col"
   ]
  },
  {
   "cell_type": "code",
   "execution_count": 10,
   "id": "21c788dd",
   "metadata": {},
   "outputs": [
    {
     "name": "stdout",
     "output_type": "stream",
     "text": [
      "+----------+-----------------------+\n",
      "|content_id|avg(answered_correctly)|\n",
      "+----------+-----------------------+\n",
      "|     10817|     0.7436510307738273|\n",
      "|      1591|     0.8129474940334129|\n",
      "|      6336|      0.777745995423341|\n",
      "|      9465|     0.4461902348369657|\n",
      "|     11141|     0.8700970054829186|\n",
      "|       833|     0.9050215571899569|\n",
      "|      5156|    0.47105625162657544|\n",
      "|      4818|     0.4098718947459534|\n",
      "|      1238|      0.597189012655275|\n",
      "|      2366|     0.5468291250733999|\n",
      "|      3175|     0.8605798889574336|\n",
      "|      6397|     0.7980720446473871|\n",
      "|      3749|     0.6274719401389631|\n",
      "|      1829|     0.7589958158995815|\n",
      "|     11748|     0.9651639344262295|\n",
      "|     11858|     0.6889063317634746|\n",
      "|       496|     0.7542558870632896|\n",
      "|     11458|     0.7225150602409639|\n",
      "|      3997|     0.6283098243009156|\n",
      "|      7554|     0.8941355674028941|\n",
      "+----------+-----------------------+\n",
      "only showing top 20 rows\n",
      "\n",
      "CPU times: user 47 µs, sys: 7.42 ms, total: 7.46 ms\n",
      "Wall time: 12 s\n"
     ]
    }
   ],
   "source": [
    "%%time\n",
    "(\n",
    "    df\n",
    "        .select('content_id', 'answered_correctly')\n",
    "        .groupBy('content_id')\n",
    "        .mean('answered_correctly')\n",
    "        .show()\n",
    ")"
   ]
  },
  {
   "cell_type": "code",
   "execution_count": 11,
   "id": "7a41e7c6",
   "metadata": {},
   "outputs": [
    {
     "name": "stdout",
     "output_type": "stream",
     "text": [
      "+---------+-----------------------+\n",
      "|  user_id|avg(answered_correctly)|\n",
      "+---------+-----------------------+\n",
      "|252345392|       0.56480117820324|\n",
      "|253500385|     0.5285296981499513|\n",
      "|242039738|    0.46367041198501874|\n",
      "|254408119|     0.7657534246575343|\n",
      "|224426519|     0.7173333333333334|\n",
      "|240485154|     0.5521978021978022|\n",
      "|244175802|     0.7359550561797753|\n",
      "|211646563|     0.7669491525423728|\n",
      "|219176829|     0.5384615384615384|\n",
      "|218611655|      0.676829268292683|\n",
      "|212559006|                  0.525|\n",
      "|259875659|     0.6183574879227053|\n",
      "|240750690|     0.6890756302521008|\n",
      "|245081718|    0.30612244897959184|\n",
      "|254957588|     0.2702702702702703|\n",
      "|226534187|     0.6363636363636364|\n",
      "|257509511|    0.49019607843137253|\n",
      "|220663840|     0.7661870503597122|\n",
      "|252861630|               0.546875|\n",
      "|243302977|     0.6267942583732058|\n",
      "+---------+-----------------------+\n",
      "only showing top 20 rows\n",
      "\n",
      "CPU times: user 7.6 ms, sys: 0 ns, total: 7.6 ms\n",
      "Wall time: 13.6 s\n"
     ]
    }
   ],
   "source": [
    "%%time\n",
    "(\n",
    "    df\n",
    "        .select('user_id', 'answered_correctly')\n",
    "        .where(col('answered_correctly') != -1)\n",
    "        .groupby('user_id')\n",
    "        .mean('answered_correctly')\n",
    "        .show()\n",
    ")"
   ]
  },
  {
   "cell_type": "markdown",
   "id": "4ccef2e5",
   "metadata": {},
   "source": [
    "## Упражнение 1\n",
    "Выведите top 10 студентов с наилучшими результатами. \n",
    "Обратите внимание, что поле answered_correctly равно -1, если это была лекция, а не тест. Такие записи нужно исключить."
   ]
  },
  {
   "cell_type": "code",
   "execution_count": null,
   "id": "9bb2b639",
   "metadata": {},
   "outputs": [],
   "source": []
  },
  {
   "cell_type": "markdown",
   "id": "2d3b0bcd",
   "metadata": {},
   "source": [
    "## Упражнение 2\n",
    "Выведите top 10 задач с наихудшими результатами"
   ]
  },
  {
   "cell_type": "code",
   "execution_count": null,
   "id": "54a490ed",
   "metadata": {},
   "outputs": [],
   "source": []
  },
  {
   "cell_type": "markdown",
   "id": "77b7b558",
   "metadata": {},
   "source": [
    "## pyspark user defined functions (UDF)\n",
    "\n",
    "Как и для других языков, поддерживаемых Spark, для python есть возможность использовать UDF. При этом возникают дополнительные накладные расходы по сравнению с Java и Scala."
   ]
  },
  {
   "cell_type": "code",
   "execution_count": 12,
   "id": "9f926751",
   "metadata": {},
   "outputs": [],
   "source": [
    "from pyspark.sql.types import LongType\n",
    "\n",
    "def to_months(ms):\n",
    "    return ms // 31536000000 // 12 #1 year = 31536000000 ms\n",
    "\n",
    "to_months_udf = f.udf(to_months, LongType())"
   ]
  },
  {
   "cell_type": "markdown",
   "id": "7773f2c6",
   "metadata": {},
   "source": [
    "Замерим время выполнения без UDF"
   ]
  },
  {
   "cell_type": "code",
   "execution_count": 13,
   "id": "e9ac8d67",
   "metadata": {},
   "outputs": [
    {
     "name": "stdout",
     "output_type": "stream",
     "text": [
      "+----------+--------------------+\n",
      "|content_id|      avg(timestamp)|\n",
      "+----------+--------------------+\n",
      "|      4818| 6.142197065523717E9|\n",
      "|      7993| 8.863857741624483E9|\n",
      "|      4519| 5.839083879095016E9|\n",
      "|      1088| 9.316805237791412E9|\n",
      "|      6397| 6.173872191169965E9|\n",
      "|      5518| 7.962030146793127E9|\n",
      "|      9427| 8.169934790387074E9|\n",
      "|       148| 6.778016709578808E9|\n",
      "|      2366| 9.180255834014534E9|\n",
      "|      3749| 6.928784635868185E9|\n",
      "|      9465| 9.754291493026693E9|\n",
      "|      3794|   7.4190074291877E9|\n",
      "|      7240|1.012949297380670...|\n",
      "|      1580| 8.499988982626443E9|\n",
      "|     23336| 7.288716371091926E9|\n",
      "|      6466| 8.827348933138468E9|\n",
      "|      6654|1.130907472662850...|\n",
      "|      6620| 8.362320610059411E9|\n",
      "|       496| 7.627430069740495E9|\n",
      "|     10817|1.349889894171885...|\n",
      "+----------+--------------------+\n",
      "only showing top 20 rows\n",
      "\n",
      "CPU times: user 6.01 ms, sys: 0 ns, total: 6.01 ms\n",
      "Wall time: 6.52 s\n"
     ]
    }
   ],
   "source": [
    "%%time\n",
    "(\n",
    "    df\n",
    "        .select(\"content_id\", \"timestamp\")\n",
    "        .groupby(\"content_id\")\n",
    "        .mean(\"timestamp\")\n",
    "        .show()\n",
    ")"
   ]
  },
  {
   "cell_type": "markdown",
   "id": "6dd8a724",
   "metadata": {},
   "source": [
    "Применим простой UDF к похожему запросу"
   ]
  },
  {
   "cell_type": "code",
   "execution_count": 17,
   "id": "41ebb9c7",
   "metadata": {},
   "outputs": [
    {
     "name": "stdout",
     "output_type": "stream",
     "text": [
      "+----------+-----------+\n",
      "|content_id|avg(months)|\n",
      "+----------+-----------+\n",
      "|      1342|        0.0|\n",
      "|      1238|        0.0|\n",
      "|      5156|        0.0|\n",
      "|      4519|        0.0|\n",
      "|      3918|        0.0|\n",
      "|       148|        0.0|\n",
      "|       471|        0.0|\n",
      "|      3175|        0.0|\n",
      "|      6397|        0.0|\n",
      "|     23336|        0.0|\n",
      "|      4818|        0.0|\n",
      "|      6336|        0.0|\n",
      "|      7880|        0.0|\n",
      "|      3749|        0.0|\n",
      "|      6620|        0.0|\n",
      "|       496|        0.0|\n",
      "|      9900|        0.0|\n",
      "|      5518|        0.0|\n",
      "|      2142|        0.0|\n",
      "|     10206|        0.0|\n",
      "+----------+-----------+\n",
      "only showing top 20 rows\n",
      "\n",
      "CPU times: user 20.9 ms, sys: 1.35 ms, total: 22.3 ms\n",
      "Wall time: 1min 23s\n"
     ]
    }
   ],
   "source": [
    "%%time\n",
    "(\n",
    "    df\n",
    "        .select(\"content_id\", to_months_udf(\"timestamp\").alias(\"months\"))\n",
    "        .groupBy(\"content_id\")\n",
    "        .mean(\"months\")\n",
    "        .show()\n",
    ")"
   ]
  },
  {
   "cell_type": "markdown",
   "id": "94024bcd",
   "metadata": {},
   "source": [
    "Перепишем логику, которая была в UDF"
   ]
  },
  {
   "cell_type": "code",
   "execution_count": 18,
   "id": "0193ec6b",
   "metadata": {},
   "outputs": [
    {
     "name": "stdout",
     "output_type": "stream",
     "text": [
      "+----------+--------------------+\n",
      "|content_id|         avg(months)|\n",
      "+----------+--------------------+\n",
      "|      4818|0.016230649272587203|\n",
      "|      7993| 0.02342259043004947|\n",
      "|      4519|0.015429677931821349|\n",
      "|      1088| 0.02461949633696784|\n",
      "|      6397| 0.01631435024302904|\n",
      "|      5518|0.021039526643606057|\n",
      "|      9427|0.021588911060341286|\n",
      "|       148|0.017910791660268714|\n",
      "|      2366|0.024258666904528516|\n",
      "|      3749|0.018309193291973676|\n",
      "|      9465|0.025775546182740073|\n",
      "|      3794|0.019604598525462175|\n",
      "|      7240|  0.0267670095917013|\n",
      "|      1580|0.022461073541947936|\n",
      "|     23336|0.019260306662998706|\n",
      "|      6466|0.023326116536493923|\n",
      "|      6654| 0.02988403392585326|\n",
      "|      6620| 0.02209728725387761|\n",
      "|       496| 0.02015535174018184|\n",
      "|     10817|0.035670606454313726|\n",
      "+----------+--------------------+\n",
      "only showing top 20 rows\n",
      "\n",
      "CPU times: user 1.41 ms, sys: 4.24 ms, total: 5.65 ms\n",
      "Wall time: 6.08 s\n"
     ]
    }
   ],
   "source": [
    "%%time\n",
    "(\n",
    "    df\n",
    "        .select(\"content_id\", (col(\"timestamp\") / 31536000000 / 12).alias(\"months\"))\n",
    "        .groupby(\"content_id\")\n",
    "        .mean(\"months\")\n",
    "        .show()\n",
    ")"
   ]
  },
  {
   "cell_type": "markdown",
   "id": "b903a4e6",
   "metadata": {},
   "source": [
    "## Упражнение 3\n",
    "Постройте гистограмму по числу месяцев до первого взаимодействия студента с заданием"
   ]
  },
  {
   "cell_type": "code",
   "execution_count": 20,
   "id": "cae6caac",
   "metadata": {},
   "outputs": [
    {
     "name": "stdout",
     "output_type": "stream",
     "text": [
      "CPU times: user 52.3 ms, sys: 405 µs, total: 52.8 ms\n",
      "Wall time: 7.22 s\n"
     ]
    }
   ],
   "source": [
    "%%time\n",
    "df_pandas = (\n",
    "    df\n",
    "        .select(\"content_id\", (col(\"timestamp\") / 31536000000 / 12).alias(\"months\"))\n",
    "        .groupby(\"content_id\")\n",
    "        .mean(\"months\")\n",
    "        .toPandas()\n",
    ")"
   ]
  },
  {
   "cell_type": "code",
   "execution_count": 21,
   "id": "a721dc39",
   "metadata": {},
   "outputs": [
    {
     "data": {
      "text/html": [
       "<div>\n",
       "<style scoped>\n",
       "    .dataframe tbody tr th:only-of-type {\n",
       "        vertical-align: middle;\n",
       "    }\n",
       "\n",
       "    .dataframe tbody tr th {\n",
       "        vertical-align: top;\n",
       "    }\n",
       "\n",
       "    .dataframe thead th {\n",
       "        text-align: right;\n",
       "    }\n",
       "</style>\n",
       "<table border=\"1\" class=\"dataframe\">\n",
       "  <thead>\n",
       "    <tr style=\"text-align: right;\">\n",
       "      <th></th>\n",
       "      <th>content_id</th>\n",
       "      <th>avg(months)</th>\n",
       "    </tr>\n",
       "  </thead>\n",
       "  <tbody>\n",
       "    <tr>\n",
       "      <th>0</th>\n",
       "      <td>10623</td>\n",
       "      <td>0.024414</td>\n",
       "    </tr>\n",
       "    <tr>\n",
       "      <th>1</th>\n",
       "      <td>1829</td>\n",
       "      <td>0.024396</td>\n",
       "    </tr>\n",
       "    <tr>\n",
       "      <th>2</th>\n",
       "      <td>4101</td>\n",
       "      <td>0.025990</td>\n",
       "    </tr>\n",
       "    <tr>\n",
       "      <th>3</th>\n",
       "      <td>4818</td>\n",
       "      <td>0.016231</td>\n",
       "    </tr>\n",
       "    <tr>\n",
       "      <th>4</th>\n",
       "      <td>1238</td>\n",
       "      <td>0.019187</td>\n",
       "    </tr>\n",
       "  </tbody>\n",
       "</table>\n",
       "</div>"
      ],
      "text/plain": [
       "   content_id  avg(months)\n",
       "0       10623     0.024414\n",
       "1        1829     0.024396\n",
       "2        4101     0.025990\n",
       "3        4818     0.016231\n",
       "4        1238     0.019187"
      ]
     },
     "execution_count": 21,
     "metadata": {},
     "output_type": "execute_result"
    }
   ],
   "source": [
    "df_pandas.head()"
   ]
  },
  {
   "cell_type": "code",
   "execution_count": null,
   "id": "18068a3f",
   "metadata": {},
   "outputs": [],
   "source": []
  },
  {
   "cell_type": "markdown",
   "id": "398fc616",
   "metadata": {},
   "source": [
    "## Обогащение данных"
   ]
  },
  {
   "cell_type": "markdown",
   "id": "7fb6a453",
   "metadata": {},
   "source": [
    "Таблица с вопросами лежит в отдельном файле questions.csv. "
   ]
  },
  {
   "cell_type": "code",
   "execution_count": 22,
   "id": "0f908774",
   "metadata": {},
   "outputs": [],
   "source": [
    "questions = spark.read.csv(\"data/questions.csv\", header=True, inferSchema=True)"
   ]
  },
  {
   "cell_type": "code",
   "execution_count": 23,
   "id": "b2c9391a",
   "metadata": {},
   "outputs": [
    {
     "data": {
      "text/plain": [
       "13523"
      ]
     },
     "execution_count": 23,
     "metadata": {},
     "output_type": "execute_result"
    }
   ],
   "source": [
    "questions.count()"
   ]
  },
  {
   "cell_type": "code",
   "execution_count": 24,
   "id": "14ef1969",
   "metadata": {},
   "outputs": [
    {
     "name": "stdout",
     "output_type": "stream",
     "text": [
      "root\n",
      " |-- question_id: integer (nullable = true)\n",
      " |-- bundle_id: integer (nullable = true)\n",
      " |-- correct_answer: integer (nullable = true)\n",
      " |-- part: integer (nullable = true)\n",
      " |-- tags: string (nullable = true)\n",
      "\n"
     ]
    }
   ],
   "source": [
    "questions.printSchema()"
   ]
  },
  {
   "cell_type": "markdown",
   "id": "f16dc3d8",
   "metadata": {},
   "source": [
    "Объединим ее с ответами при условии, что эта запись ссылкается на вопрос если content_type_id и content_id - идентификатор вопроса."
   ]
  },
  {
   "cell_type": "code",
   "execution_count": 25,
   "id": "359752d2",
   "metadata": {},
   "outputs": [],
   "source": [
    "df_join = (\n",
    "    df\n",
    "        .where(f.col(\"content_type_id\") == 0)\n",
    "        .join(questions, df.content_id == questions.question_id, 'left')\n",
    ")"
   ]
  },
  {
   "cell_type": "code",
   "execution_count": 26,
   "id": "5ae2cbad",
   "metadata": {},
   "outputs": [
    {
     "data": {
      "text/html": [
       "<table border='1'>\n",
       "<tr><th>row_id</th><th>timestamp</th><th>user_id</th><th>content_id</th><th>content_type_id</th><th>task_container_id</th><th>user_answer</th><th>answered_correctly</th><th>prior_question_elapsed_time</th><th>prior_question_had_explanation</th><th>question_id</th><th>bundle_id</th><th>correct_answer</th><th>part</th><th>tags</th></tr>\n",
       "<tr><td>10059541</td><td>953601099</td><td>218331526</td><td>1114</td><td>0</td><td>650</td><td>3</td><td>1</td><td>17000.0</td><td>true</td><td>1114</td><td>1114</td><td>3</td><td>2</td><td>143 71 29 102</td></tr>\n",
       "<tr><td>9882908</td><td>26098315317</td><td>214467360</td><td>721</td><td>0</td><td>375</td><td>1</td><td>1</td><td>15000.0</td><td>true</td><td>721</td><td>721</td><td>1</td><td>2</td><td>143 176 6 38 102</td></tr>\n",
       "<tr><td>11032662</td><td>590935189</td><td>239834028</td><td>231</td><td>0</td><td>277</td><td>1</td><td>1</td><td>18000.0</td><td>true</td><td>231</td><td>231</td><td>1</td><td>2</td><td>90 100 92 102</td></tr>\n",
       "<tr><td>11487463</td><td>13117283988</td><td>249140958</td><td>7219</td><td>0</td><td>15</td><td>0</td><td>0</td><td>31750.0</td><td>false</td><td>7219</td><td>7216</td><td>2</td><td>7</td><td>50 19 21</td></tr>\n",
       "<tr><td>10193731</td><td>178006028</td><td>220767027</td><td>4144</td><td>0</td><td>304</td><td>0</td><td>1</td><td>13000.0</td><td>true</td><td>4144</td><td>4144</td><td>0</td><td>5</td><td>1</td></tr>\n",
       "<tr><td>11451805</td><td>1054272891</td><td>248526815</td><td>9593</td><td>0</td><td>307</td><td>0</td><td>0</td><td>14000.0</td><td>true</td><td>9593</td><td>9593</td><td>1</td><td>5</td><td>73</td></tr>\n",
       "<tr><td>9751638</td><td>4175717773</td><td>212002144</td><td>8161</td><td>0</td><td>4604</td><td>2</td><td>0</td><td>44000.0</td><td>true</td><td>8161</td><td>8159</td><td>1</td><td>7</td><td>39 42 160 135 162</td></tr>\n",
       "<tr><td>11102000</td><td>26201536504</td><td>241050300</td><td>8014</td><td>0</td><td>316</td><td>0</td><td>1</td><td>48000.0</td><td>true</td><td>8014</td><td>8014</td><td>0</td><td>7</td><td>98 18 46 135</td></tr>\n",
       "<tr><td>11063074</td><td>1030127</td><td>240427856</td><td>609</td><td>0</td><td>21</td><td>1</td><td>1</td><td>18000.0</td><td>true</td><td>609</td><td>609</td><td>1</td><td>2</td><td>62 138 41 38 92</td></tr>\n",
       "<tr><td>11747704</td><td>51839059</td><td>254609209</td><td>665</td><td>0</td><td>42</td><td>1</td><td>1</td><td>15000.0</td><td>true</td><td>665</td><td>665</td><td>1</td><td>2</td><td>143 114 38 81</td></tr>\n",
       "<tr><td>10988082</td><td>667567</td><td>238857398</td><td>10688</td><td>0</td><td>14</td><td>0</td><td>1</td><td>15000.0</td><td>true</td><td>10688</td><td>10688</td><td>0</td><td>2</td><td>62 137 142 81 92</td></tr>\n",
       "<tr><td>10714102</td><td>7523275987</td><td>233484181</td><td>2999</td><td>0</td><td>2701</td><td>0</td><td>1</td><td>73400.0</td><td>true</td><td>2999</td><td>2997</td><td>0</td><td>4</td><td>157 12 102</td></tr>\n",
       "<tr><td>10700423</td><td>25220856713</td><td>233282197</td><td>10635</td><td>0</td><td>5701</td><td>0</td><td>1</td><td>22000.0</td><td>true</td><td>10635</td><td>10635</td><td>0</td><td>1</td><td>10 70 38</td></tr>\n",
       "<tr><td>11287421</td><td>14463427080</td><td>244789008</td><td>1176</td><td>0</td><td>40</td><td>3</td><td>0</td><td>16000.0</td><td>true</td><td>1176</td><td>1176</td><td>1</td><td>2</td><td>143 176 162 38 92</td></tr>\n",
       "<tr><td>11085187</td><td>278568</td><td>240730881</td><td>3365</td><td>0</td><td>5</td><td>2</td><td>1</td><td>30333.0</td><td>false</td><td>3365</td><td>3363</td><td>2</td><td>4</td><td>136 103 29</td></tr>\n",
       "<tr><td>11179816</td><td>5739874825</td><td>242867213</td><td>4762</td><td>0</td><td>2374</td><td>1</td><td>1</td><td>7000.0</td><td>true</td><td>4762</td><td>4762</td><td>1</td><td>5</td><td>95</td></tr>\n",
       "<tr><td>11886328</td><td>3597982695</td><td>257806737</td><td>5131</td><td>0</td><td>2583</td><td>2</td><td>1</td><td>10000.0</td><td>true</td><td>5131</td><td>5131</td><td>2</td><td>5</td><td>8</td></tr>\n",
       "<tr><td>9931891</td><td>6414302182</td><td>215620128</td><td>576</td><td>0</td><td>230</td><td>0</td><td>1</td><td>14000.0</td><td>true</td><td>576</td><td>576</td><td>0</td><td>2</td><td>2 107 162 38 29</td></tr>\n",
       "<tr><td>11272808</td><td>3992672659</td><td>244317655</td><td>1326</td><td>0</td><td>305</td><td>3</td><td>0</td><td>18000.0</td><td>true</td><td>1326</td><td>1326</td><td>1</td><td>2</td><td>143 20 38 102</td></tr>\n",
       "<tr><td>10267774</td><td>539457</td><td>222508081</td><td>7876</td><td>0</td><td>23</td><td>0</td><td>0</td><td>18000.0</td><td>false</td><td>7876</td><td>7876</td><td>3</td><td>1</td><td>10 94 92</td></tr>\n",
       "</table>\n",
       "only showing top 20 rows\n"
      ],
      "text/plain": [
       "+--------+-----------+---------+----------+---------------+-----------------+-----------+------------------+---------------------------+------------------------------+-----------+---------+--------------+----+-----------------+\n",
       "|  row_id|  timestamp|  user_id|content_id|content_type_id|task_container_id|user_answer|answered_correctly|prior_question_elapsed_time|prior_question_had_explanation|question_id|bundle_id|correct_answer|part|             tags|\n",
       "+--------+-----------+---------+----------+---------------+-----------------+-----------+------------------+---------------------------+------------------------------+-----------+---------+--------------+----+-----------------+\n",
       "|10059541|  953601099|218331526|      1114|              0|              650|          3|                 1|                    17000.0|                          true|       1114|     1114|             3|   2|    143 71 29 102|\n",
       "| 9882908|26098315317|214467360|       721|              0|              375|          1|                 1|                    15000.0|                          true|        721|      721|             1|   2| 143 176 6 38 102|\n",
       "|11032662|  590935189|239834028|       231|              0|              277|          1|                 1|                    18000.0|                          true|        231|      231|             1|   2|    90 100 92 102|\n",
       "|11487463|13117283988|249140958|      7219|              0|               15|          0|                 0|                    31750.0|                         false|       7219|     7216|             2|   7|         50 19 21|\n",
       "|10193731|  178006028|220767027|      4144|              0|              304|          0|                 1|                    13000.0|                          true|       4144|     4144|             0|   5|                1|\n",
       "|11451805| 1054272891|248526815|      9593|              0|              307|          0|                 0|                    14000.0|                          true|       9593|     9593|             1|   5|               73|\n",
       "| 9751638| 4175717773|212002144|      8161|              0|             4604|          2|                 0|                    44000.0|                          true|       8161|     8159|             1|   7|39 42 160 135 162|\n",
       "|11102000|26201536504|241050300|      8014|              0|              316|          0|                 1|                    48000.0|                          true|       8014|     8014|             0|   7|     98 18 46 135|\n",
       "|11063074|    1030127|240427856|       609|              0|               21|          1|                 1|                    18000.0|                          true|        609|      609|             1|   2|  62 138 41 38 92|\n",
       "|11747704|   51839059|254609209|       665|              0|               42|          1|                 1|                    15000.0|                          true|        665|      665|             1|   2|    143 114 38 81|\n",
       "|10988082|     667567|238857398|     10688|              0|               14|          0|                 1|                    15000.0|                          true|      10688|    10688|             0|   2| 62 137 142 81 92|\n",
       "|10714102| 7523275987|233484181|      2999|              0|             2701|          0|                 1|                    73400.0|                          true|       2999|     2997|             0|   4|       157 12 102|\n",
       "|10700423|25220856713|233282197|     10635|              0|             5701|          0|                 1|                    22000.0|                          true|      10635|    10635|             0|   1|         10 70 38|\n",
       "|11287421|14463427080|244789008|      1176|              0|               40|          3|                 0|                    16000.0|                          true|       1176|     1176|             1|   2|143 176 162 38 92|\n",
       "|11085187|     278568|240730881|      3365|              0|                5|          2|                 1|                    30333.0|                         false|       3365|     3363|             2|   4|       136 103 29|\n",
       "|11179816| 5739874825|242867213|      4762|              0|             2374|          1|                 1|                     7000.0|                          true|       4762|     4762|             1|   5|               95|\n",
       "|11886328| 3597982695|257806737|      5131|              0|             2583|          2|                 1|                    10000.0|                          true|       5131|     5131|             2|   5|                8|\n",
       "| 9931891| 6414302182|215620128|       576|              0|              230|          0|                 1|                    14000.0|                          true|        576|      576|             0|   2|  2 107 162 38 29|\n",
       "|11272808| 3992672659|244317655|      1326|              0|              305|          3|                 0|                    18000.0|                          true|       1326|     1326|             1|   2|    143 20 38 102|\n",
       "|10267774|     539457|222508081|      7876|              0|               23|          0|                 0|                    18000.0|                         false|       7876|     7876|             3|   1|         10 94 92|\n",
       "+--------+-----------+---------+----------+---------------+-----------------+-----------+------------------+---------------------------+------------------------------+-----------+---------+--------------+----+-----------------+\n",
       "only showing top 20 rows"
      ]
     },
     "execution_count": 26,
     "metadata": {},
     "output_type": "execute_result"
    }
   ],
   "source": [
    "df_join"
   ]
  },
  {
   "cell_type": "markdown",
   "id": "ba1e56be",
   "metadata": {},
   "source": [
    "Проверим, что вероястность правильного ответа не зависит от его номера."
   ]
  },
  {
   "cell_type": "code",
   "execution_count": 27,
   "id": "61aab64d",
   "metadata": {},
   "outputs": [
    {
     "name": "stdout",
     "output_type": "stream",
     "text": [
      "+--------------+-----------------------+\n",
      "|correct_answer|avg(answered_correctly)|\n",
      "+--------------+-----------------------+\n",
      "|             1|     0.6728072675886204|\n",
      "|             3|     0.6592246990371898|\n",
      "|             2|     0.6192199974012494|\n",
      "|             0|     0.6674206042887552|\n",
      "+--------------+-----------------------+\n",
      "\n",
      "CPU times: user 4.99 ms, sys: 517 µs, total: 5.5 ms\n",
      "Wall time: 10.8 s\n"
     ]
    }
   ],
   "source": [
    "%%time\n",
    "(\n",
    "    df_join\n",
    "        .select('correct_answer', 'answered_correctly')\n",
    "        .groupby('correct_answer')\n",
    "        .mean('answered_correctly')\n",
    "        .show()\n",
    ")"
   ]
  },
  {
   "cell_type": "code",
   "execution_count": 28,
   "id": "2d95d649",
   "metadata": {},
   "outputs": [
    {
     "ename": "KeyboardInterrupt",
     "evalue": "",
     "output_type": "error",
     "traceback": [
      "\u001b[0;31m---------------------------------------------------------------------------\u001b[0m",
      "\u001b[0;31mKeyboardInterrupt\u001b[0m                         Traceback (most recent call last)",
      "\u001b[0;32m<ipython-input-28-4b13fe154b54>\u001b[0m in \u001b[0;36m<module>\u001b[0;34m\u001b[0m\n\u001b[0;32m----> 1\u001b[0;31m \u001b[0mdf_join\u001b[0m\u001b[0;34m.\u001b[0m\u001b[0mtoPandas\u001b[0m\u001b[0;34m(\u001b[0m\u001b[0;34m)\u001b[0m\u001b[0;34m.\u001b[0m\u001b[0mhead\u001b[0m\u001b[0;34m(\u001b[0m\u001b[0;34m)\u001b[0m\u001b[0;34m\u001b[0m\u001b[0;34m\u001b[0m\u001b[0m\n\u001b[0m",
      "\u001b[0;32m/usr/lib/spark/python/pyspark/sql/pandas/conversion.py\u001b[0m in \u001b[0;36mtoPandas\u001b[0;34m(self)\u001b[0m\n\u001b[1;32m    136\u001b[0m \u001b[0;34m\u001b[0m\u001b[0m\n\u001b[1;32m    137\u001b[0m         \u001b[0;31m# Below is toPandas without Arrow optimization.\u001b[0m\u001b[0;34m\u001b[0m\u001b[0;34m\u001b[0m\u001b[0;34m\u001b[0m\u001b[0m\n\u001b[0;32m--> 138\u001b[0;31m         \u001b[0mpdf\u001b[0m \u001b[0;34m=\u001b[0m \u001b[0mpd\u001b[0m\u001b[0;34m.\u001b[0m\u001b[0mDataFrame\u001b[0m\u001b[0;34m.\u001b[0m\u001b[0mfrom_records\u001b[0m\u001b[0;34m(\u001b[0m\u001b[0mself\u001b[0m\u001b[0;34m.\u001b[0m\u001b[0mcollect\u001b[0m\u001b[0;34m(\u001b[0m\u001b[0;34m)\u001b[0m\u001b[0;34m,\u001b[0m \u001b[0mcolumns\u001b[0m\u001b[0;34m=\u001b[0m\u001b[0mself\u001b[0m\u001b[0;34m.\u001b[0m\u001b[0mcolumns\u001b[0m\u001b[0;34m)\u001b[0m\u001b[0;34m\u001b[0m\u001b[0;34m\u001b[0m\u001b[0m\n\u001b[0m\u001b[1;32m    139\u001b[0m         \u001b[0mcolumn_counter\u001b[0m \u001b[0;34m=\u001b[0m \u001b[0mCounter\u001b[0m\u001b[0;34m(\u001b[0m\u001b[0mself\u001b[0m\u001b[0;34m.\u001b[0m\u001b[0mcolumns\u001b[0m\u001b[0;34m)\u001b[0m\u001b[0;34m\u001b[0m\u001b[0;34m\u001b[0m\u001b[0m\n\u001b[1;32m    140\u001b[0m \u001b[0;34m\u001b[0m\u001b[0m\n",
      "\u001b[0;32m/usr/lib/spark/python/pyspark/sql/dataframe.py\u001b[0m in \u001b[0;36mcollect\u001b[0;34m(self)\u001b[0m\n\u001b[1;32m    594\u001b[0m         \"\"\"\n\u001b[1;32m    595\u001b[0m         \u001b[0;32mwith\u001b[0m \u001b[0mSCCallSiteSync\u001b[0m\u001b[0;34m(\u001b[0m\u001b[0mself\u001b[0m\u001b[0;34m.\u001b[0m\u001b[0m_sc\u001b[0m\u001b[0;34m)\u001b[0m \u001b[0;32mas\u001b[0m \u001b[0mcss\u001b[0m\u001b[0;34m:\u001b[0m\u001b[0;34m\u001b[0m\u001b[0;34m\u001b[0m\u001b[0m\n\u001b[0;32m--> 596\u001b[0;31m             \u001b[0msock_info\u001b[0m \u001b[0;34m=\u001b[0m \u001b[0mself\u001b[0m\u001b[0;34m.\u001b[0m\u001b[0m_jdf\u001b[0m\u001b[0;34m.\u001b[0m\u001b[0mcollectToPython\u001b[0m\u001b[0;34m(\u001b[0m\u001b[0;34m)\u001b[0m\u001b[0;34m\u001b[0m\u001b[0;34m\u001b[0m\u001b[0m\n\u001b[0m\u001b[1;32m    597\u001b[0m         \u001b[0;32mreturn\u001b[0m \u001b[0mlist\u001b[0m\u001b[0;34m(\u001b[0m\u001b[0m_load_from_socket\u001b[0m\u001b[0;34m(\u001b[0m\u001b[0msock_info\u001b[0m\u001b[0;34m,\u001b[0m \u001b[0mBatchedSerializer\u001b[0m\u001b[0;34m(\u001b[0m\u001b[0mPickleSerializer\u001b[0m\u001b[0;34m(\u001b[0m\u001b[0;34m)\u001b[0m\u001b[0;34m)\u001b[0m\u001b[0;34m)\u001b[0m\u001b[0;34m)\u001b[0m\u001b[0;34m\u001b[0m\u001b[0;34m\u001b[0m\u001b[0m\n\u001b[1;32m    598\u001b[0m \u001b[0;34m\u001b[0m\u001b[0m\n",
      "\u001b[0;32m/usr/lib/spark/python/lib/py4j-0.10.9-src.zip/py4j/java_gateway.py\u001b[0m in \u001b[0;36m__call__\u001b[0;34m(self, *args)\u001b[0m\n\u001b[1;32m   1301\u001b[0m             \u001b[0mproto\u001b[0m\u001b[0;34m.\u001b[0m\u001b[0mEND_COMMAND_PART\u001b[0m\u001b[0;34m\u001b[0m\u001b[0;34m\u001b[0m\u001b[0m\n\u001b[1;32m   1302\u001b[0m \u001b[0;34m\u001b[0m\u001b[0m\n\u001b[0;32m-> 1303\u001b[0;31m         \u001b[0manswer\u001b[0m \u001b[0;34m=\u001b[0m \u001b[0mself\u001b[0m\u001b[0;34m.\u001b[0m\u001b[0mgateway_client\u001b[0m\u001b[0;34m.\u001b[0m\u001b[0msend_command\u001b[0m\u001b[0;34m(\u001b[0m\u001b[0mcommand\u001b[0m\u001b[0;34m)\u001b[0m\u001b[0;34m\u001b[0m\u001b[0;34m\u001b[0m\u001b[0m\n\u001b[0m\u001b[1;32m   1304\u001b[0m         return_value = get_return_value(\n\u001b[1;32m   1305\u001b[0m             answer, self.gateway_client, self.target_id, self.name)\n",
      "\u001b[0;32m/usr/lib/spark/python/lib/py4j-0.10.9-src.zip/py4j/java_gateway.py\u001b[0m in \u001b[0;36msend_command\u001b[0;34m(self, command, retry, binary)\u001b[0m\n\u001b[1;32m   1031\u001b[0m         \u001b[0mconnection\u001b[0m \u001b[0;34m=\u001b[0m \u001b[0mself\u001b[0m\u001b[0;34m.\u001b[0m\u001b[0m_get_connection\u001b[0m\u001b[0;34m(\u001b[0m\u001b[0;34m)\u001b[0m\u001b[0;34m\u001b[0m\u001b[0;34m\u001b[0m\u001b[0m\n\u001b[1;32m   1032\u001b[0m         \u001b[0;32mtry\u001b[0m\u001b[0;34m:\u001b[0m\u001b[0;34m\u001b[0m\u001b[0;34m\u001b[0m\u001b[0m\n\u001b[0;32m-> 1033\u001b[0;31m             \u001b[0mresponse\u001b[0m \u001b[0;34m=\u001b[0m \u001b[0mconnection\u001b[0m\u001b[0;34m.\u001b[0m\u001b[0msend_command\u001b[0m\u001b[0;34m(\u001b[0m\u001b[0mcommand\u001b[0m\u001b[0;34m)\u001b[0m\u001b[0;34m\u001b[0m\u001b[0;34m\u001b[0m\u001b[0m\n\u001b[0m\u001b[1;32m   1034\u001b[0m             \u001b[0;32mif\u001b[0m \u001b[0mbinary\u001b[0m\u001b[0;34m:\u001b[0m\u001b[0;34m\u001b[0m\u001b[0;34m\u001b[0m\u001b[0m\n\u001b[1;32m   1035\u001b[0m                 \u001b[0;32mreturn\u001b[0m \u001b[0mresponse\u001b[0m\u001b[0;34m,\u001b[0m \u001b[0mself\u001b[0m\u001b[0;34m.\u001b[0m\u001b[0m_create_connection_guard\u001b[0m\u001b[0;34m(\u001b[0m\u001b[0mconnection\u001b[0m\u001b[0;34m)\u001b[0m\u001b[0;34m\u001b[0m\u001b[0;34m\u001b[0m\u001b[0m\n",
      "\u001b[0;32m/usr/lib/spark/python/lib/py4j-0.10.9-src.zip/py4j/java_gateway.py\u001b[0m in \u001b[0;36msend_command\u001b[0;34m(self, command)\u001b[0m\n\u001b[1;32m   1198\u001b[0m \u001b[0;34m\u001b[0m\u001b[0m\n\u001b[1;32m   1199\u001b[0m         \u001b[0;32mtry\u001b[0m\u001b[0;34m:\u001b[0m\u001b[0;34m\u001b[0m\u001b[0;34m\u001b[0m\u001b[0m\n\u001b[0;32m-> 1200\u001b[0;31m             \u001b[0manswer\u001b[0m \u001b[0;34m=\u001b[0m \u001b[0msmart_decode\u001b[0m\u001b[0;34m(\u001b[0m\u001b[0mself\u001b[0m\u001b[0;34m.\u001b[0m\u001b[0mstream\u001b[0m\u001b[0;34m.\u001b[0m\u001b[0mreadline\u001b[0m\u001b[0;34m(\u001b[0m\u001b[0;34m)\u001b[0m\u001b[0;34m[\u001b[0m\u001b[0;34m:\u001b[0m\u001b[0;34m-\u001b[0m\u001b[0;36m1\u001b[0m\u001b[0;34m]\u001b[0m\u001b[0;34m)\u001b[0m\u001b[0;34m\u001b[0m\u001b[0;34m\u001b[0m\u001b[0m\n\u001b[0m\u001b[1;32m   1201\u001b[0m             \u001b[0mlogger\u001b[0m\u001b[0;34m.\u001b[0m\u001b[0mdebug\u001b[0m\u001b[0;34m(\u001b[0m\u001b[0;34m\"Answer received: {0}\"\u001b[0m\u001b[0;34m.\u001b[0m\u001b[0mformat\u001b[0m\u001b[0;34m(\u001b[0m\u001b[0manswer\u001b[0m\u001b[0;34m)\u001b[0m\u001b[0;34m)\u001b[0m\u001b[0;34m\u001b[0m\u001b[0;34m\u001b[0m\u001b[0m\n\u001b[1;32m   1202\u001b[0m             \u001b[0;32mif\u001b[0m \u001b[0manswer\u001b[0m\u001b[0;34m.\u001b[0m\u001b[0mstartswith\u001b[0m\u001b[0;34m(\u001b[0m\u001b[0mproto\u001b[0m\u001b[0;34m.\u001b[0m\u001b[0mRETURN_MESSAGE\u001b[0m\u001b[0;34m)\u001b[0m\u001b[0;34m:\u001b[0m\u001b[0;34m\u001b[0m\u001b[0;34m\u001b[0m\u001b[0m\n",
      "\u001b[0;32m/opt/conda/lib/python3.8/socket.py\u001b[0m in \u001b[0;36mreadinto\u001b[0;34m(self, b)\u001b[0m\n\u001b[1;32m    667\u001b[0m         \u001b[0;32mwhile\u001b[0m \u001b[0;32mTrue\u001b[0m\u001b[0;34m:\u001b[0m\u001b[0;34m\u001b[0m\u001b[0;34m\u001b[0m\u001b[0m\n\u001b[1;32m    668\u001b[0m             \u001b[0;32mtry\u001b[0m\u001b[0;34m:\u001b[0m\u001b[0;34m\u001b[0m\u001b[0;34m\u001b[0m\u001b[0m\n\u001b[0;32m--> 669\u001b[0;31m                 \u001b[0;32mreturn\u001b[0m \u001b[0mself\u001b[0m\u001b[0;34m.\u001b[0m\u001b[0m_sock\u001b[0m\u001b[0;34m.\u001b[0m\u001b[0mrecv_into\u001b[0m\u001b[0;34m(\u001b[0m\u001b[0mb\u001b[0m\u001b[0;34m)\u001b[0m\u001b[0;34m\u001b[0m\u001b[0;34m\u001b[0m\u001b[0m\n\u001b[0m\u001b[1;32m    670\u001b[0m             \u001b[0;32mexcept\u001b[0m \u001b[0mtimeout\u001b[0m\u001b[0;34m:\u001b[0m\u001b[0;34m\u001b[0m\u001b[0;34m\u001b[0m\u001b[0m\n\u001b[1;32m    671\u001b[0m                 \u001b[0mself\u001b[0m\u001b[0;34m.\u001b[0m\u001b[0m_timeout_occurred\u001b[0m \u001b[0;34m=\u001b[0m \u001b[0;32mTrue\u001b[0m\u001b[0;34m\u001b[0m\u001b[0;34m\u001b[0m\u001b[0m\n",
      "\u001b[0;31mKeyboardInterrupt\u001b[0m: "
     ]
    }
   ],
   "source": [
    "df_join.toPandas().head()"
   ]
  },
  {
   "cell_type": "markdown",
   "id": "626285fc",
   "metadata": {},
   "source": [
    "## Упражнение 4\n",
    "\n",
    "В файле \"lectures.csv\" хранится информация об лекциях. Объедините эту таблицу с основным набором данных при условии, что content_type_id == 1."
   ]
  },
  {
   "cell_type": "code",
   "execution_count": null,
   "id": "f2afa335",
   "metadata": {},
   "outputs": [],
   "source": []
  }
 ],
 "metadata": {
  "kernelspec": {
   "display_name": "Python 3",
   "language": "python",
   "name": "python3"
  },
  "language_info": {
   "codemirror_mode": {
    "name": "ipython",
    "version": 3
   },
   "file_extension": ".py",
   "mimetype": "text/x-python",
   "name": "python",
   "nbconvert_exporter": "python",
   "pygments_lexer": "ipython3",
   "version": "3.8.10"
  }
 },
 "nbformat": 4,
 "nbformat_minor": 5
}
