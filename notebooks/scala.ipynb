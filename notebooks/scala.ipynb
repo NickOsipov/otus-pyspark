{
 "cells": [
  {
   "cell_type": "code",
   "execution_count": null,
   "id": "36667977",
   "metadata": {},
   "outputs": [],
   "source": [
    "%%init_spark\n",
    "launcher.master = \"local[4]\"\n",
    "launcher.conf.spark.executor.cores = 4\n",
    "launcher.conf.spark.executor.memory = \"1g\"\n",
    "launcher.conf.spark.driver.memory = \"1g\"\n",
    "launcher.conf.spark.ui.port ="
   ]
  },
  {
   "cell_type": "code",
   "execution_count": null,
   "id": "0a8d45c2",
   "metadata": {},
   "outputs": [],
   "source": [
    "val df = spark\n",
    "    .read\n",
    "    .parquet(\"train.parquet\")\n"
   ]
  },
  {
   "cell_type": "code",
   "execution_count": null,
   "id": "df08f23b",
   "metadata": {},
   "outputs": [],
   "source": [
    "df.printSchema()"
   ]
  },
  {
   "cell_type": "code",
   "execution_count": null,
   "id": "09d47329",
   "metadata": {},
   "outputs": [],
   "source": [
    "df.show(10)"
   ]
  },
  {
   "cell_type": "code",
   "execution_count": null,
   "id": "b492d671",
   "metadata": {},
   "outputs": [],
   "source": [
    "%%time\n",
    "    df\n",
    "        .select(\"content_id\", \"answered_correctly\")\n",
    "        .groupBy(\"content_id\")\n",
    "        .mean(\"answered_correctly\")\n",
    "        .show()\n"
   ]
  },
  {
   "cell_type": "code",
   "execution_count": 6,
   "id": "11cc5d08",
   "metadata": {},
   "outputs": [
    {
     "name": "stdout",
     "output_type": "stream",
     "text": [
      "+--------+-----------------------+\n",
      "| user_id|avg(answered_correctly)|\n",
      "+--------+-----------------------+\n",
      "|47599178|     0.7194719471947195|\n",
      "|40433406|     0.5053763440860215|\n",
      "| 3233182|      0.627661909989023|\n",
      "|38672112|                    0.3|\n",
      "|42672190|     0.6507936507936508|\n",
      "|30638525|     0.5493775933609959|\n",
      "|32506008|     0.6644951140065146|\n",
      "|37559041|      0.561822125813449|\n",
      "|24785555|     0.6860282574568289|\n",
      "| 9970282|     0.7414299706170421|\n",
      "| 6431206|     0.6170886075949367|\n",
      "|38280458|     0.7932489451476793|\n",
      "|41563837|     0.5524193548387096|\n",
      "|50918524|     0.5647058823529412|\n",
      "|36684960|     0.5357142857142857|\n",
      "|47897490|     0.6513761467889908|\n",
      "| 7832398|     0.7058823529411765|\n",
      "| 9656713|     0.8028169014084507|\n",
      "| 6935015|     0.6388888888888888|\n",
      "|17232317|     0.5789473684210527|\n",
      "+--------+-----------------------+\n",
      "only showing top 20 rows\n",
      "\n",
      "Time: 4.173762798309326 seconds.\n",
      "\n"
     ]
    }
   ],
   "source": [
    "%%time\n",
    "df\n",
    "    .select(\"user_id\", \"answered_correctly\")\n",
    "    .groupBy(\"user_id\")\n",
    "    .mean(\"answered_correctly\")\n",
    "    .show()\n"
   ]
  },
  {
   "cell_type": "markdown",
   "id": "40a1bd09",
   "metadata": {},
   "source": [
    "## Упражнение 3\n",
    "Напишите на scala UDF аналогичный to_month.\n",
    "\n",
    "Замерьте время выполнения запроса аналогичного с pyspark"
   ]
  },
  {
   "cell_type": "code",
   "execution_count": 7,
   "id": "a6b903c9",
   "metadata": {},
   "outputs": [
    {
     "data": {
      "text/plain": [
       "import org.apache.spark.sql.functions.udf\n",
       "import org.apache.spark.sql.functions.col\n"
      ]
     },
     "execution_count": 7,
     "metadata": {},
     "output_type": "execute_result"
    }
   ],
   "source": [
    "import org.apache.spark.sql.functions.udf\n",
    "import org.apache.spark.sql.functions.col"
   ]
  },
  {
   "cell_type": "code",
   "execution_count": null,
   "id": "deb3a961",
   "metadata": {},
   "outputs": [],
   "source": []
  }
 ],
 "metadata": {
  "kernelspec": {
   "display_name": "spylon-kernel",
   "language": "scala",
   "name": "spylon-kernel"
  },
  "language_info": {
   "codemirror_mode": "text/x-scala",
   "file_extension": ".scala",
   "help_links": [
    {
     "text": "MetaKernel Magics",
     "url": "https://metakernel.readthedocs.io/en/latest/source/README.html"
    }
   ],
   "mimetype": "text/x-scala",
   "name": "scala",
   "pygments_lexer": "scala",
   "version": "0.4.1"
  }
 },
 "nbformat": 4,
 "nbformat_minor": 5
}
