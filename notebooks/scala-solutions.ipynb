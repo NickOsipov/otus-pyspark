{
 "cells": [
  {
   "cell_type": "code",
   "execution_count": null,
   "id": "36667977",
   "metadata": {},
   "outputs": [],
   "source": [
    "%%init_spark\n",
    "launcher.master = \"local[4]\"\n",
    "launcher.conf.spark.executor.cores = 4\n",
    "launcher.conf.spark.executor.memory = \"1g\"\n",
    "launcher.conf.spark.driver.memory = \"1g\"\n",
    "launcher.conf.spark.ui.port = 4048"
   ]
  },
  {
   "cell_type": "code",
   "execution_count": null,
   "id": "0a8d45c2",
   "metadata": {},
   "outputs": [],
   "source": [
    "val df = spark\n",
    "    .read\n",
    "    .parquet(\"train.parquet\")\n"
   ]
  },
  {
   "cell_type": "code",
   "execution_count": null,
   "id": "df08f23b",
   "metadata": {},
   "outputs": [],
   "source": [
    "df.printSchema()"
   ]
  },
  {
   "cell_type": "code",
   "execution_count": null,
   "id": "09d47329",
   "metadata": {},
   "outputs": [],
   "source": [
    "df.show(10)"
   ]
  },
  {
   "cell_type": "code",
   "execution_count": null,
   "id": "b492d671",
   "metadata": {},
   "outputs": [],
   "source": [
    "%%time\n",
    "    df\n",
    "        .select(\"content_id\", \"answered_correctly\")\n",
    "        .groupBy(\"content_id\")\n",
    "        .mean(\"answered_correctly\")\n",
    "        .show()\n"
   ]
  },
  {
   "cell_type": "code",
   "execution_count": null,
   "id": "11cc5d08",
   "metadata": {},
   "outputs": [],
   "source": [
    "%%time\n",
    "df\n",
    "    .select(\"user_id\", \"answered_correctly\")\n",
    "    .groupBy(\"user_id\")\n",
    "    .mean(\"answered_correctly\")\n",
    "    .show()\n"
   ]
  },
  {
   "cell_type": "code",
   "execution_count": null,
   "id": "a6b903c9",
   "metadata": {},
   "outputs": [],
   "source": [
    "import org.apache.spark.sql.functions.udf\n",
    "import org.apache.spark.sql.functions.col\n",
    "\n",
    "val to_month = udf((ts_ms: Long) => ts_ms / 31536000000L / 12) // 1 year is 31536000000 ms"
   ]
  },
  {
   "cell_type": "code",
   "execution_count": null,
   "id": "d2a9791a",
   "metadata": {},
   "outputs": [],
   "source": [
    "%%time\n",
    "    df\n",
    "        .select(\"content_id\", \"timestamp\")\n",
    "        .groupBy(\"content_id\")\n",
    "        .mean(\"timestamp\")\n",
    "        .show()"
   ]
  },
  {
   "cell_type": "code",
   "execution_count": null,
   "id": "aa0a386c",
   "metadata": {},
   "outputs": [],
   "source": [
    "%%time\n",
    "df\n",
    "    .select(col(\"content_id\"), to_month(col(\"timestamp\")).as(\"month\"))\n",
    "    .groupBy(\"content_id\")\n",
    "    .mean(\"month\")\n",
    "    .show()"
   ]
  },
  {
   "cell_type": "code",
   "execution_count": null,
   "id": "deb3a961",
   "metadata": {},
   "outputs": [],
   "source": []
  }
 ],
 "metadata": {
  "kernelspec": {
   "display_name": "spylon-kernel",
   "language": "scala",
   "name": "spylon-kernel"
  },
  "language_info": {
   "codemirror_mode": "text/x-scala",
   "file_extension": ".scala",
   "help_links": [
    {
     "text": "MetaKernel Magics",
     "url": "https://metakernel.readthedocs.io/en/latest/source/README.html"
    }
   ],
   "mimetype": "text/x-scala",
   "name": "scala",
   "pygments_lexer": "scala",
   "version": "0.4.1"
  }
 },
 "nbformat": 4,
 "nbformat_minor": 5
}
