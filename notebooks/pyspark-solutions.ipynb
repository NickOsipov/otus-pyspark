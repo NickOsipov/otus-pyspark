{
 "cells": [
  {
   "cell_type": "markdown",
   "id": "88bb5194",
   "metadata": {},
   "source": [
    "## Пример на pyspark\n",
    "\n",
    "В качестве набора данных для примера будем использовать данные конкурса про ответы студентов на тесты\n",
    "https://www.kaggle.com/c/riiid-test-answer-prediction"
   ]
  },
  {
   "cell_type": "markdown",
   "id": "a998f2be",
   "metadata": {},
   "source": [
    "При подключении к spark драйверу установим лимиты по памяти и по числу ядер. Также выберем номер порта для Spark UI"
   ]
  },
  {
   "cell_type": "markdown",
   "id": "e8712420",
   "metadata": {},
   "source": [
    "Нужно выбрать уникальное имя приложения и номер порта, чтобы не войти в коллизию с другими пользователями"
   ]
  },
  {
   "cell_type": "code",
   "execution_count": 1,
   "id": "1f649736",
   "metadata": {},
   "outputs": [
    {
     "name": "stdout",
     "output_type": "stream",
     "text": [
      "Populating the interactive namespace from numpy and matplotlib\n"
     ]
    }
   ],
   "source": [
    "%pylab inline\n",
    "import pandas as pd\n",
    "import numpy as np"
   ]
  },
  {
   "cell_type": "code",
   "execution_count": 2,
   "id": "74a7614c",
   "metadata": {},
   "outputs": [],
   "source": [
    "import findspark\n",
    "findspark.init()"
   ]
  },
  {
   "cell_type": "code",
   "execution_count": 3,
   "id": "aad8578c",
   "metadata": {},
   "outputs": [],
   "source": [
    "from pyspark.sql import SparkSession\n",
    "\n",
    "spark = (\n",
    "    SparkSession\n",
    "        .builder\n",
    "        .appName(\"OTUS-Solution\")\n",
    "#         .config(\"spark.executor.cores\", \"1\")\n",
    "#         .config(\"spark.executor.instances\", \"2\")\n",
    "        .config(\"spark.dynamicAllocation.enabled\", \"true\")\n",
    "        .config(\"spark.executor.memory\", \"2g\")\n",
    "        .config(\"spark.driver.memory\", \"1g\")\n",
    "        .getOrCreate()\n",
    ")"
   ]
  },
  {
   "cell_type": "markdown",
   "id": "68ec076d",
   "metadata": {},
   "source": [
    "Данные будем читать из заранее сконвертированного parquet"
   ]
  },
  {
   "cell_type": "code",
   "execution_count": 4,
   "id": "cdaeeca0",
   "metadata": {},
   "outputs": [],
   "source": [
    "riiid_df = spark.read.parquet(\"data/train.parquet\",)"
   ]
  },
  {
   "cell_type": "markdown",
   "id": "0e7c6c12",
   "metadata": {},
   "source": [
    "Схема данных и первые 10 записей"
   ]
  },
  {
   "cell_type": "code",
   "execution_count": 5,
   "id": "c5b7c8f2",
   "metadata": {},
   "outputs": [
    {
     "name": "stdout",
     "output_type": "stream",
     "text": [
      "root\n",
      " |-- row_id: integer (nullable = true)\n",
      " |-- timestamp: long (nullable = true)\n",
      " |-- user_id: integer (nullable = true)\n",
      " |-- content_id: integer (nullable = true)\n",
      " |-- content_type_id: integer (nullable = true)\n",
      " |-- task_container_id: integer (nullable = true)\n",
      " |-- user_answer: integer (nullable = true)\n",
      " |-- answered_correctly: integer (nullable = true)\n",
      " |-- prior_question_elapsed_time: double (nullable = true)\n",
      " |-- prior_question_had_explanation: boolean (nullable = true)\n",
      "\n"
     ]
    }
   ],
   "source": [
    "riiid_df.printSchema()"
   ]
  },
  {
   "cell_type": "code",
   "execution_count": 6,
   "id": "8ec75696",
   "metadata": {},
   "outputs": [
    {
     "data": {
      "text/html": [
       "<table border='1'>\n",
       "<tr><th>row_id</th><th>timestamp</th><th>user_id</th><th>content_id</th><th>content_type_id</th><th>task_container_id</th><th>user_answer</th><th>answered_correctly</th><th>prior_question_elapsed_time</th><th>prior_question_had_explanation</th></tr>\n",
       "<tr><td>5614100</td><td>207493581</td><td>119674750</td><td>2116</td><td>0</td><td>91</td><td>1</td><td>1</td><td>5000.0</td><td>true</td></tr>\n",
       "<tr><td>6878464</td><td>336625532</td><td>149432665</td><td>10725</td><td>0</td><td>127</td><td>0</td><td>1</td><td>8000.0</td><td>true</td></tr>\n",
       "<tr><td>5619667</td><td>1717939939</td><td>119746920</td><td>2412</td><td>0</td><td>256</td><td>0</td><td>1</td><td>31333.0</td><td>true</td></tr>\n",
       "<tr><td>6008533</td><td>16813059434</td><td>129559153</td><td>6760</td><td>0</td><td>575</td><td>2</td><td>0</td><td>29000.0</td><td>true</td></tr>\n",
       "<tr><td>5365453</td><td>5023058272</td><td>114322537</td><td>9000</td><td>0</td><td>182</td><td>1</td><td>0</td><td>29000.0</td><td>true</td></tr>\n",
       "<tr><td>5613270</td><td>8950667882</td><td>119665027</td><td>5758</td><td>0</td><td>4907</td><td>2</td><td>1</td><td>4000.0</td><td>true</td></tr>\n",
       "<tr><td>7114468</td><td>4425457987</td><td>154902563</td><td>6157</td><td>0</td><td>2163</td><td>1</td><td>0</td><td>11000.0</td><td>true</td></tr>\n",
       "<tr><td>5347230</td><td>4331221769</td><td>113727651</td><td>10914</td><td>0</td><td>1273</td><td>1</td><td>1</td><td>36250.0</td><td>true</td></tr>\n",
       "<tr><td>6857182</td><td>1819326181</td><td>148956176</td><td>4696</td><td>0</td><td>91</td><td>0</td><td>1</td><td>25000.0</td><td>false</td></tr>\n",
       "<tr><td>5648801</td><td>598029</td><td>120852218</td><td>172</td><td>0</td><td>25</td><td>3</td><td>0</td><td>23000.0</td><td>false</td></tr>\n",
       "</table>\n"
      ],
      "text/plain": [
       "+--------+-----------+---------+----------+---------------+-----------------+-----------+------------------+---------------------------+------------------------------+\n",
       "|  row_id|  timestamp|  user_id|content_id|content_type_id|task_container_id|user_answer|answered_correctly|prior_question_elapsed_time|prior_question_had_explanation|\n",
       "+--------+-----------+---------+----------+---------------+-----------------+-----------+------------------+---------------------------+------------------------------+\n",
       "|10059541|  953601099|218331526|      1114|              0|              650|          3|                 1|                    17000.0|                          true|\n",
       "| 9882908|26098315317|214467360|       721|              0|              375|          1|                 1|                    15000.0|                          true|\n",
       "|11032662|  590935189|239834028|       231|              0|              277|          1|                 1|                    18000.0|                          true|\n",
       "|11487463|13117283988|249140958|      7219|              0|               15|          0|                 0|                    31750.0|                         false|\n",
       "|10193731|  178006028|220767027|      4144|              0|              304|          0|                 1|                    13000.0|                          true|\n",
       "|11451805| 1054272891|248526815|      9593|              0|              307|          0|                 0|                    14000.0|                          true|\n",
       "| 9751638| 4175717773|212002144|      8161|              0|             4604|          2|                 0|                    44000.0|                          true|\n",
       "|11102000|26201536504|241050300|      8014|              0|              316|          0|                 1|                    48000.0|                          true|\n",
       "|11063074|    1030127|240427856|       609|              0|               21|          1|                 1|                    18000.0|                          true|\n",
       "|11747704|   51839059|254609209|       665|              0|               42|          1|                 1|                    15000.0|                          true|\n",
       "+--------+-----------+---------+----------+---------------+-----------------+-----------+------------------+---------------------------+------------------------------+"
      ]
     },
     "execution_count": 6,
     "metadata": {},
     "output_type": "execute_result"
    }
   ],
   "source": [
    "spark.conf.set('spark.sql.repl.eagerEval.enabled', True)  # to pretty print pyspark.DataFrame in jupyter\n",
    "riiid_df.limit(10)"
   ]
  },
  {
   "cell_type": "markdown",
   "id": "38fa908b",
   "metadata": {},
   "source": [
    "Замерим время выполнения простых запросов с группировками"
   ]
  },
  {
   "cell_type": "code",
   "execution_count": 7,
   "id": "8dd4e938",
   "metadata": {},
   "outputs": [],
   "source": [
    "from pyspark.sql import functions as f\n",
    "from pyspark.sql.functions import col"
   ]
  },
  {
   "cell_type": "code",
   "execution_count": 8,
   "id": "21c788dd",
   "metadata": {},
   "outputs": [
    {
     "name": "stdout",
     "output_type": "stream",
     "text": [
      "CPU times: user 49.3 ms, sys: 697 µs, total: 50 ms\n",
      "Wall time: 11.5 s\n"
     ]
    },
    {
     "data": {
      "text/html": [
       "<div>\n",
       "<style scoped>\n",
       "    .dataframe tbody tr th:only-of-type {\n",
       "        vertical-align: middle;\n",
       "    }\n",
       "\n",
       "    .dataframe tbody tr th {\n",
       "        vertical-align: top;\n",
       "    }\n",
       "\n",
       "    .dataframe thead th {\n",
       "        text-align: right;\n",
       "    }\n",
       "</style>\n",
       "<table border=\"1\" class=\"dataframe\">\n",
       "  <thead>\n",
       "    <tr style=\"text-align: right;\">\n",
       "      <th></th>\n",
       "      <th>content_id</th>\n",
       "      <th>avg(answered_correctly)</th>\n",
       "    </tr>\n",
       "  </thead>\n",
       "  <tbody>\n",
       "    <tr>\n",
       "      <th>0</th>\n",
       "      <td>5156</td>\n",
       "      <td>0.471056</td>\n",
       "    </tr>\n",
       "    <tr>\n",
       "      <th>1</th>\n",
       "      <td>4519</td>\n",
       "      <td>0.488080</td>\n",
       "    </tr>\n",
       "    <tr>\n",
       "      <th>2</th>\n",
       "      <td>3749</td>\n",
       "      <td>0.627472</td>\n",
       "    </tr>\n",
       "    <tr>\n",
       "      <th>3</th>\n",
       "      <td>496</td>\n",
       "      <td>0.754256</td>\n",
       "    </tr>\n",
       "    <tr>\n",
       "      <th>4</th>\n",
       "      <td>148</td>\n",
       "      <td>0.829767</td>\n",
       "    </tr>\n",
       "    <tr>\n",
       "      <th>...</th>\n",
       "      <td>...</td>\n",
       "      <td>...</td>\n",
       "    </tr>\n",
       "    <tr>\n",
       "      <th>13777</th>\n",
       "      <td>7466</td>\n",
       "      <td>0.880503</td>\n",
       "    </tr>\n",
       "    <tr>\n",
       "      <th>13778</th>\n",
       "      <td>12916</td>\n",
       "      <td>0.932099</td>\n",
       "    </tr>\n",
       "    <tr>\n",
       "      <th>13779</th>\n",
       "      <td>12991</td>\n",
       "      <td>0.775362</td>\n",
       "    </tr>\n",
       "    <tr>\n",
       "      <th>13780</th>\n",
       "      <td>3406</td>\n",
       "      <td>0.901408</td>\n",
       "    </tr>\n",
       "    <tr>\n",
       "      <th>13781</th>\n",
       "      <td>13100</td>\n",
       "      <td>0.698113</td>\n",
       "    </tr>\n",
       "  </tbody>\n",
       "</table>\n",
       "<p>13782 rows × 2 columns</p>\n",
       "</div>"
      ],
      "text/plain": [
       "       content_id  avg(answered_correctly)\n",
       "0            5156                 0.471056\n",
       "1            4519                 0.488080\n",
       "2            3749                 0.627472\n",
       "3             496                 0.754256\n",
       "4             148                 0.829767\n",
       "...           ...                      ...\n",
       "13777        7466                 0.880503\n",
       "13778       12916                 0.932099\n",
       "13779       12991                 0.775362\n",
       "13780        3406                 0.901408\n",
       "13781       13100                 0.698113\n",
       "\n",
       "[13782 rows x 2 columns]"
      ]
     },
     "execution_count": 8,
     "metadata": {},
     "output_type": "execute_result"
    }
   ],
   "source": [
    "%%time\n",
    "(\n",
    "df\n",
    "    .select('content_id', 'answered_correctly')\n",
    "    .groupby('content_id')\n",
    "    .mean('answered_correctly')\n",
    "    .toPandas()\n",
    ")"
   ]
  },
  {
   "cell_type": "code",
   "execution_count": 9,
   "id": "7a41e7c6",
   "metadata": {},
   "outputs": [
    {
     "name": "stdout",
     "output_type": "stream",
     "text": [
      "CPU times: user 1.18 s, sys: 54.4 ms, total: 1.24 s\n",
      "Wall time: 12.4 s\n"
     ]
    },
    {
     "data": {
      "text/html": [
       "<div>\n",
       "<style scoped>\n",
       "    .dataframe tbody tr th:only-of-type {\n",
       "        vertical-align: middle;\n",
       "    }\n",
       "\n",
       "    .dataframe tbody tr th {\n",
       "        vertical-align: top;\n",
       "    }\n",
       "\n",
       "    .dataframe thead th {\n",
       "        text-align: right;\n",
       "    }\n",
       "</style>\n",
       "<table border=\"1\" class=\"dataframe\">\n",
       "  <thead>\n",
       "    <tr style=\"text-align: right;\">\n",
       "      <th></th>\n",
       "      <th>user_id</th>\n",
       "      <th>avg(answered_correctly)</th>\n",
       "    </tr>\n",
       "  </thead>\n",
       "  <tbody>\n",
       "    <tr>\n",
       "      <th>0</th>\n",
       "      <td>179127027</td>\n",
       "      <td>0.481013</td>\n",
       "    </tr>\n",
       "    <tr>\n",
       "      <th>1</th>\n",
       "      <td>200701357</td>\n",
       "      <td>0.752060</td>\n",
       "    </tr>\n",
       "    <tr>\n",
       "      <th>2</th>\n",
       "      <td>192418825</td>\n",
       "      <td>0.515625</td>\n",
       "    </tr>\n",
       "    <tr>\n",
       "      <th>3</th>\n",
       "      <td>180704272</td>\n",
       "      <td>0.730108</td>\n",
       "    </tr>\n",
       "    <tr>\n",
       "      <th>4</th>\n",
       "      <td>172577204</td>\n",
       "      <td>0.721591</td>\n",
       "    </tr>\n",
       "    <tr>\n",
       "      <th>...</th>\n",
       "      <td>...</td>\n",
       "      <td>...</td>\n",
       "    </tr>\n",
       "    <tr>\n",
       "      <th>393651</th>\n",
       "      <td>594585110</td>\n",
       "      <td>0.166667</td>\n",
       "    </tr>\n",
       "    <tr>\n",
       "      <th>393652</th>\n",
       "      <td>1079675503</td>\n",
       "      <td>0.588235</td>\n",
       "    </tr>\n",
       "    <tr>\n",
       "      <th>393653</th>\n",
       "      <td>1074363508</td>\n",
       "      <td>0.707317</td>\n",
       "    </tr>\n",
       "    <tr>\n",
       "      <th>393654</th>\n",
       "      <td>1073896135</td>\n",
       "      <td>0.588235</td>\n",
       "    </tr>\n",
       "    <tr>\n",
       "      <th>393655</th>\n",
       "      <td>154471867</td>\n",
       "      <td>0.333333</td>\n",
       "    </tr>\n",
       "  </tbody>\n",
       "</table>\n",
       "<p>393656 rows × 2 columns</p>\n",
       "</div>"
      ],
      "text/plain": [
       "           user_id  avg(answered_correctly)\n",
       "0        179127027                 0.481013\n",
       "1        200701357                 0.752060\n",
       "2        192418825                 0.515625\n",
       "3        180704272                 0.730108\n",
       "4        172577204                 0.721591\n",
       "...            ...                      ...\n",
       "393651   594585110                 0.166667\n",
       "393652  1079675503                 0.588235\n",
       "393653  1074363508                 0.707317\n",
       "393654  1073896135                 0.588235\n",
       "393655   154471867                 0.333333\n",
       "\n",
       "[393656 rows x 2 columns]"
      ]
     },
     "execution_count": 9,
     "metadata": {},
     "output_type": "execute_result"
    }
   ],
   "source": [
    "%%time\n",
    "(\n",
    "df\n",
    "    .select('user_id', 'answered_correctly')\n",
    "    .groupby('user_id')\n",
    "    .mean('answered_correctly')\n",
    "    .toPandas()\n",
    ")"
   ]
  },
  {
   "cell_type": "markdown",
   "id": "4ccef2e5",
   "metadata": {},
   "source": [
    "## Упражнение 1\n",
    "Выведите top 10 студентов с наилучшими результатами"
   ]
  },
  {
   "cell_type": "code",
   "execution_count": 11,
   "id": "aa158ffa",
   "metadata": {},
   "outputs": [
    {
     "name": "stdout",
     "output_type": "stream",
     "text": [
      "CPU times: user 11.5 ms, sys: 0 ns, total: 11.5 ms\n",
      "Wall time: 17.9 s\n"
     ]
    },
    {
     "data": {
      "text/html": [
       "<div>\n",
       "<style scoped>\n",
       "    .dataframe tbody tr th:only-of-type {\n",
       "        vertical-align: middle;\n",
       "    }\n",
       "\n",
       "    .dataframe tbody tr th {\n",
       "        vertical-align: top;\n",
       "    }\n",
       "\n",
       "    .dataframe thead th {\n",
       "        text-align: right;\n",
       "    }\n",
       "</style>\n",
       "<table border=\"1\" class=\"dataframe\">\n",
       "  <thead>\n",
       "    <tr style=\"text-align: right;\">\n",
       "      <th></th>\n",
       "      <th>user_id</th>\n",
       "      <th>avg(answered_correctly)</th>\n",
       "    </tr>\n",
       "  </thead>\n",
       "  <tbody>\n",
       "    <tr>\n",
       "      <th>0</th>\n",
       "      <td>452224820</td>\n",
       "      <td>1.0</td>\n",
       "    </tr>\n",
       "    <tr>\n",
       "      <th>1</th>\n",
       "      <td>1231833900</td>\n",
       "      <td>1.0</td>\n",
       "    </tr>\n",
       "    <tr>\n",
       "      <th>2</th>\n",
       "      <td>310907133</td>\n",
       "      <td>1.0</td>\n",
       "    </tr>\n",
       "    <tr>\n",
       "      <th>3</th>\n",
       "      <td>289081218</td>\n",
       "      <td>1.0</td>\n",
       "    </tr>\n",
       "    <tr>\n",
       "      <th>4</th>\n",
       "      <td>711895126</td>\n",
       "      <td>1.0</td>\n",
       "    </tr>\n",
       "    <tr>\n",
       "      <th>5</th>\n",
       "      <td>1943621634</td>\n",
       "      <td>1.0</td>\n",
       "    </tr>\n",
       "    <tr>\n",
       "      <th>6</th>\n",
       "      <td>2091007262</td>\n",
       "      <td>1.0</td>\n",
       "    </tr>\n",
       "    <tr>\n",
       "      <th>7</th>\n",
       "      <td>794153836</td>\n",
       "      <td>1.0</td>\n",
       "    </tr>\n",
       "    <tr>\n",
       "      <th>8</th>\n",
       "      <td>122687953</td>\n",
       "      <td>1.0</td>\n",
       "    </tr>\n",
       "    <tr>\n",
       "      <th>9</th>\n",
       "      <td>537004263</td>\n",
       "      <td>1.0</td>\n",
       "    </tr>\n",
       "  </tbody>\n",
       "</table>\n",
       "</div>"
      ],
      "text/plain": [
       "      user_id  avg(answered_correctly)\n",
       "0   452224820                      1.0\n",
       "1  1231833900                      1.0\n",
       "2   310907133                      1.0\n",
       "3   289081218                      1.0\n",
       "4   711895126                      1.0\n",
       "5  1943621634                      1.0\n",
       "6  2091007262                      1.0\n",
       "7   794153836                      1.0\n",
       "8   122687953                      1.0\n",
       "9   537004263                      1.0"
      ]
     },
     "execution_count": 11,
     "metadata": {},
     "output_type": "execute_result"
    }
   ],
   "source": [
    "%%time\n",
    "(\n",
    "riiid_df\n",
    "    .select(\"user_id\", \"answered_correctly\")\n",
    "    .groupBy(\"user_id\")\n",
    "    .mean(\"answered_correctly\")\n",
    "    .orderBy(\"avg(answered_correctly)\", ascending=False)\n",
    "    .limit(10)\n",
    "    .toPandas()\n",
    ")"
   ]
  },
  {
   "cell_type": "markdown",
   "id": "2d3b0bcd",
   "metadata": {},
   "source": [
    "## Упражнение 2\n",
    "Выведите top 10 задач с наихудшими результатами"
   ]
  },
  {
   "cell_type": "code",
   "execution_count": 12,
   "id": "2b7579c6",
   "metadata": {},
   "outputs": [
    {
     "name": "stdout",
     "output_type": "stream",
     "text": [
      "CPU times: user 8.28 ms, sys: 4.47 ms, total: 12.8 ms\n",
      "Wall time: 9.11 s\n"
     ]
    },
    {
     "data": {
      "text/html": [
       "<div>\n",
       "<style scoped>\n",
       "    .dataframe tbody tr th:only-of-type {\n",
       "        vertical-align: middle;\n",
       "    }\n",
       "\n",
       "    .dataframe tbody tr th {\n",
       "        vertical-align: top;\n",
       "    }\n",
       "\n",
       "    .dataframe thead th {\n",
       "        text-align: right;\n",
       "    }\n",
       "</style>\n",
       "<table border=\"1\" class=\"dataframe\">\n",
       "  <thead>\n",
       "    <tr style=\"text-align: right;\">\n",
       "      <th></th>\n",
       "      <th>content_id</th>\n",
       "      <th>avg(answered_correctly)</th>\n",
       "    </tr>\n",
       "  </thead>\n",
       "  <tbody>\n",
       "    <tr>\n",
       "      <th>0</th>\n",
       "      <td>10007</td>\n",
       "      <td>0.000000</td>\n",
       "    </tr>\n",
       "    <tr>\n",
       "      <th>1</th>\n",
       "      <td>1485</td>\n",
       "      <td>0.000000</td>\n",
       "    </tr>\n",
       "    <tr>\n",
       "      <th>2</th>\n",
       "      <td>1486</td>\n",
       "      <td>0.000000</td>\n",
       "    </tr>\n",
       "    <tr>\n",
       "      <th>3</th>\n",
       "      <td>1484</td>\n",
       "      <td>0.000000</td>\n",
       "    </tr>\n",
       "    <tr>\n",
       "      <th>4</th>\n",
       "      <td>10062</td>\n",
       "      <td>0.091752</td>\n",
       "    </tr>\n",
       "    <tr>\n",
       "      <th>5</th>\n",
       "      <td>7639</td>\n",
       "      <td>0.100607</td>\n",
       "    </tr>\n",
       "    <tr>\n",
       "      <th>6</th>\n",
       "      <td>3125</td>\n",
       "      <td>0.135965</td>\n",
       "    </tr>\n",
       "    <tr>\n",
       "      <th>7</th>\n",
       "      <td>9220</td>\n",
       "      <td>0.144753</td>\n",
       "    </tr>\n",
       "    <tr>\n",
       "      <th>8</th>\n",
       "      <td>7487</td>\n",
       "      <td>0.147680</td>\n",
       "    </tr>\n",
       "    <tr>\n",
       "      <th>9</th>\n",
       "      <td>10924</td>\n",
       "      <td>0.148775</td>\n",
       "    </tr>\n",
       "  </tbody>\n",
       "</table>\n",
       "</div>"
      ],
      "text/plain": [
       "   content_id  avg(answered_correctly)\n",
       "0       10007                 0.000000\n",
       "1        1485                 0.000000\n",
       "2        1486                 0.000000\n",
       "3        1484                 0.000000\n",
       "4       10062                 0.091752\n",
       "5        7639                 0.100607\n",
       "6        3125                 0.135965\n",
       "7        9220                 0.144753\n",
       "8        7487                 0.147680\n",
       "9       10924                 0.148775"
      ]
     },
     "execution_count": 12,
     "metadata": {},
     "output_type": "execute_result"
    }
   ],
   "source": [
    "%%time\n",
    "(\n",
    "riiid_df\n",
    "    .select(\"content_id\", \"answered_correctly\")\n",
    "    .filter(col(\"answered_correctly\") >= 0)\n",
    "    .groupBy(\"content_id\")\n",
    "    .mean(\"answered_correctly\")\n",
    "    .orderBy(\"avg(answered_correctly)\", ascending=True)\n",
    "    .limit(10)\n",
    "    .toPandas()\n",
    ")"
   ]
  },
  {
   "cell_type": "markdown",
   "id": "77b7b558",
   "metadata": {},
   "source": [
    "## pyspark user defined functions (UDF)\n",
    "\n",
    "Как и для других языков, поддерживаемых Spark, для python есть возможность использовать UDF. При этом возникают дополнительные накладные расходы по сравнению с Java и Scala на маршалинг данных."
   ]
  },
  {
   "cell_type": "code",
   "execution_count": 13,
   "id": "9f926751",
   "metadata": {},
   "outputs": [],
   "source": [
    "from pyspark.sql.types import LongType\n",
    "\n",
    "def to_months(ms):\n",
    "    return ms // 31536000000 // 12 #1 year = 31536000000 ms\n",
    "\n",
    "to_months_udf = f.udf(to_months, LongType())"
   ]
  },
  {
   "cell_type": "markdown",
   "id": "7773f2c6",
   "metadata": {},
   "source": [
    "Замерим время выполнения без UDF"
   ]
  },
  {
   "cell_type": "code",
   "execution_count": 14,
   "id": "e9ac8d67",
   "metadata": {},
   "outputs": [
    {
     "name": "stdout",
     "output_type": "stream",
     "text": [
      "CPU times: user 37 ms, sys: 357 µs, total: 37.4 ms\n",
      "Wall time: 18.8 s\n"
     ]
    },
    {
     "data": {
      "text/html": [
       "<div>\n",
       "<style scoped>\n",
       "    .dataframe tbody tr th:only-of-type {\n",
       "        vertical-align: middle;\n",
       "    }\n",
       "\n",
       "    .dataframe tbody tr th {\n",
       "        vertical-align: top;\n",
       "    }\n",
       "\n",
       "    .dataframe thead th {\n",
       "        text-align: right;\n",
       "    }\n",
       "</style>\n",
       "<table border=\"1\" class=\"dataframe\">\n",
       "  <thead>\n",
       "    <tr style=\"text-align: right;\">\n",
       "      <th></th>\n",
       "      <th>content_id</th>\n",
       "      <th>avg(timestamp)</th>\n",
       "    </tr>\n",
       "  </thead>\n",
       "  <tbody>\n",
       "    <tr>\n",
       "      <th>0</th>\n",
       "      <td>4818</td>\n",
       "      <td>6.142197e+09</td>\n",
       "    </tr>\n",
       "    <tr>\n",
       "      <th>1</th>\n",
       "      <td>2866</td>\n",
       "      <td>1.018793e+10</td>\n",
       "    </tr>\n",
       "    <tr>\n",
       "      <th>2</th>\n",
       "      <td>1591</td>\n",
       "      <td>7.811043e+09</td>\n",
       "    </tr>\n",
       "    <tr>\n",
       "      <th>3</th>\n",
       "      <td>4519</td>\n",
       "      <td>5.839084e+09</td>\n",
       "    </tr>\n",
       "    <tr>\n",
       "      <th>4</th>\n",
       "      <td>7253</td>\n",
       "      <td>1.050513e+10</td>\n",
       "    </tr>\n",
       "    <tr>\n",
       "      <th>...</th>\n",
       "      <td>...</td>\n",
       "      <td>...</td>\n",
       "    </tr>\n",
       "    <tr>\n",
       "      <th>13777</th>\n",
       "      <td>12444</td>\n",
       "      <td>1.813421e+10</td>\n",
       "    </tr>\n",
       "    <tr>\n",
       "      <th>13778</th>\n",
       "      <td>12622</td>\n",
       "      <td>1.211629e+10</td>\n",
       "    </tr>\n",
       "    <tr>\n",
       "      <th>13779</th>\n",
       "      <td>13100</td>\n",
       "      <td>1.862596e+10</td>\n",
       "    </tr>\n",
       "    <tr>\n",
       "      <th>13780</th>\n",
       "      <td>12991</td>\n",
       "      <td>1.700667e+10</td>\n",
       "    </tr>\n",
       "    <tr>\n",
       "      <th>13781</th>\n",
       "      <td>3406</td>\n",
       "      <td>2.305479e+09</td>\n",
       "    </tr>\n",
       "  </tbody>\n",
       "</table>\n",
       "<p>13782 rows × 2 columns</p>\n",
       "</div>"
      ],
      "text/plain": [
       "       content_id  avg(timestamp)\n",
       "0            4818    6.142197e+09\n",
       "1            2866    1.018793e+10\n",
       "2            1591    7.811043e+09\n",
       "3            4519    5.839084e+09\n",
       "4            7253    1.050513e+10\n",
       "...           ...             ...\n",
       "13777       12444    1.813421e+10\n",
       "13778       12622    1.211629e+10\n",
       "13779       13100    1.862596e+10\n",
       "13780       12991    1.700667e+10\n",
       "13781        3406    2.305479e+09\n",
       "\n",
       "[13782 rows x 2 columns]"
      ]
     },
     "execution_count": 14,
     "metadata": {},
     "output_type": "execute_result"
    }
   ],
   "source": [
    "%%time\n",
    "(\n",
    "    riiid_df\n",
    "        .select(\"content_id\", \"timestamp\")\n",
    "        .groupby(\"content_id\")\n",
    "        .mean(\"timestamp\")\n",
    "        .toPandas()\n",
    ")"
   ]
  },
  {
   "cell_type": "markdown",
   "id": "6dd8a724",
   "metadata": {},
   "source": [
    "Применим простой UDF к похожему запросу"
   ]
  },
  {
   "cell_type": "code",
   "execution_count": 15,
   "id": "41ebb9c7",
   "metadata": {},
   "outputs": [
    {
     "name": "stdout",
     "output_type": "stream",
     "text": [
      "CPU times: user 55.1 ms, sys: 4.63 ms, total: 59.8 ms\n",
      "Wall time: 49.4 s\n"
     ]
    },
    {
     "data": {
      "text/html": [
       "<div>\n",
       "<style scoped>\n",
       "    .dataframe tbody tr th:only-of-type {\n",
       "        vertical-align: middle;\n",
       "    }\n",
       "\n",
       "    .dataframe tbody tr th {\n",
       "        vertical-align: top;\n",
       "    }\n",
       "\n",
       "    .dataframe thead th {\n",
       "        text-align: right;\n",
       "    }\n",
       "</style>\n",
       "<table border=\"1\" class=\"dataframe\">\n",
       "  <thead>\n",
       "    <tr style=\"text-align: right;\">\n",
       "      <th></th>\n",
       "      <th>content_id</th>\n",
       "      <th>avg(months)</th>\n",
       "    </tr>\n",
       "  </thead>\n",
       "  <tbody>\n",
       "    <tr>\n",
       "      <th>0</th>\n",
       "      <td>4818</td>\n",
       "      <td>0.0</td>\n",
       "    </tr>\n",
       "    <tr>\n",
       "      <th>1</th>\n",
       "      <td>2866</td>\n",
       "      <td>0.0</td>\n",
       "    </tr>\n",
       "    <tr>\n",
       "      <th>2</th>\n",
       "      <td>1591</td>\n",
       "      <td>0.0</td>\n",
       "    </tr>\n",
       "    <tr>\n",
       "      <th>3</th>\n",
       "      <td>4519</td>\n",
       "      <td>0.0</td>\n",
       "    </tr>\n",
       "    <tr>\n",
       "      <th>4</th>\n",
       "      <td>7253</td>\n",
       "      <td>0.0</td>\n",
       "    </tr>\n",
       "    <tr>\n",
       "      <th>...</th>\n",
       "      <td>...</td>\n",
       "      <td>...</td>\n",
       "    </tr>\n",
       "    <tr>\n",
       "      <th>13777</th>\n",
       "      <td>3406</td>\n",
       "      <td>0.0</td>\n",
       "    </tr>\n",
       "    <tr>\n",
       "      <th>13778</th>\n",
       "      <td>12622</td>\n",
       "      <td>0.0</td>\n",
       "    </tr>\n",
       "    <tr>\n",
       "      <th>13779</th>\n",
       "      <td>12991</td>\n",
       "      <td>0.0</td>\n",
       "    </tr>\n",
       "    <tr>\n",
       "      <th>13780</th>\n",
       "      <td>7476</td>\n",
       "      <td>0.0</td>\n",
       "    </tr>\n",
       "    <tr>\n",
       "      <th>13781</th>\n",
       "      <td>12916</td>\n",
       "      <td>0.0</td>\n",
       "    </tr>\n",
       "  </tbody>\n",
       "</table>\n",
       "<p>13782 rows × 2 columns</p>\n",
       "</div>"
      ],
      "text/plain": [
       "       content_id  avg(months)\n",
       "0            4818          0.0\n",
       "1            2866          0.0\n",
       "2            1591          0.0\n",
       "3            4519          0.0\n",
       "4            7253          0.0\n",
       "...           ...          ...\n",
       "13777        3406          0.0\n",
       "13778       12622          0.0\n",
       "13779       12991          0.0\n",
       "13780        7476          0.0\n",
       "13781       12916          0.0\n",
       "\n",
       "[13782 rows x 2 columns]"
      ]
     },
     "execution_count": 15,
     "metadata": {},
     "output_type": "execute_result"
    }
   ],
   "source": [
    "%%time\n",
    "(\n",
    "    riiid_df\n",
    "        .select(\"content_id\", to_months_udf(\"timestamp\").alias(\"months\"))\n",
    "        .groupBy(\"content_id\")\n",
    "        .mean(\"months\")\n",
    "        .toPandas()\n",
    ")"
   ]
  },
  {
   "cell_type": "markdown",
   "id": "94024bcd",
   "metadata": {},
   "source": [
    "Перепишем логику, которая была в UDF"
   ]
  },
  {
   "cell_type": "code",
   "execution_count": 16,
   "id": "0193ec6b",
   "metadata": {},
   "outputs": [
    {
     "name": "stdout",
     "output_type": "stream",
     "text": [
      "CPU times: user 30.7 ms, sys: 3.93 ms, total: 34.7 ms\n",
      "Wall time: 12.9 s\n"
     ]
    },
    {
     "data": {
      "text/html": [
       "<div>\n",
       "<style scoped>\n",
       "    .dataframe tbody tr th:only-of-type {\n",
       "        vertical-align: middle;\n",
       "    }\n",
       "\n",
       "    .dataframe tbody tr th {\n",
       "        vertical-align: top;\n",
       "    }\n",
       "\n",
       "    .dataframe thead th {\n",
       "        text-align: right;\n",
       "    }\n",
       "</style>\n",
       "<table border=\"1\" class=\"dataframe\">\n",
       "  <thead>\n",
       "    <tr style=\"text-align: right;\">\n",
       "      <th></th>\n",
       "      <th>content_id</th>\n",
       "      <th>avg(months)</th>\n",
       "    </tr>\n",
       "  </thead>\n",
       "  <tbody>\n",
       "    <tr>\n",
       "      <th>0</th>\n",
       "      <td>5156</td>\n",
       "      <td>0.018064</td>\n",
       "    </tr>\n",
       "    <tr>\n",
       "      <th>1</th>\n",
       "      <td>4519</td>\n",
       "      <td>0.015430</td>\n",
       "    </tr>\n",
       "    <tr>\n",
       "      <th>2</th>\n",
       "      <td>3749</td>\n",
       "      <td>0.018309</td>\n",
       "    </tr>\n",
       "    <tr>\n",
       "      <th>3</th>\n",
       "      <td>496</td>\n",
       "      <td>0.020155</td>\n",
       "    </tr>\n",
       "    <tr>\n",
       "      <th>4</th>\n",
       "      <td>148</td>\n",
       "      <td>0.017911</td>\n",
       "    </tr>\n",
       "    <tr>\n",
       "      <th>...</th>\n",
       "      <td>...</td>\n",
       "      <td>...</td>\n",
       "    </tr>\n",
       "    <tr>\n",
       "      <th>13777</th>\n",
       "      <td>13100</td>\n",
       "      <td>0.049219</td>\n",
       "    </tr>\n",
       "    <tr>\n",
       "      <th>13778</th>\n",
       "      <td>6153</td>\n",
       "      <td>0.007385</td>\n",
       "    </tr>\n",
       "    <tr>\n",
       "      <th>13779</th>\n",
       "      <td>12991</td>\n",
       "      <td>0.044940</td>\n",
       "    </tr>\n",
       "    <tr>\n",
       "      <th>13780</th>\n",
       "      <td>3406</td>\n",
       "      <td>0.006092</td>\n",
       "    </tr>\n",
       "    <tr>\n",
       "      <th>13781</th>\n",
       "      <td>12622</td>\n",
       "      <td>0.032017</td>\n",
       "    </tr>\n",
       "  </tbody>\n",
       "</table>\n",
       "<p>13782 rows × 2 columns</p>\n",
       "</div>"
      ],
      "text/plain": [
       "       content_id  avg(months)\n",
       "0            5156     0.018064\n",
       "1            4519     0.015430\n",
       "2            3749     0.018309\n",
       "3             496     0.020155\n",
       "4             148     0.017911\n",
       "...           ...          ...\n",
       "13777       13100     0.049219\n",
       "13778        6153     0.007385\n",
       "13779       12991     0.044940\n",
       "13780        3406     0.006092\n",
       "13781       12622     0.032017\n",
       "\n",
       "[13782 rows x 2 columns]"
      ]
     },
     "execution_count": 16,
     "metadata": {},
     "output_type": "execute_result"
    }
   ],
   "source": [
    "%%time\n",
    "(\n",
    "     riiid_df\n",
    "        .select(\"content_id\", (col(\"timestamp\") / 31536000000 / 12).alias(\"months\"))\n",
    "        .groupby(\"content_id\")\n",
    "        .mean(\"months\")\n",
    "        .toPandas()\n",
    ")"
   ]
  },
  {
   "cell_type": "markdown",
   "id": "b903a4e6",
   "metadata": {},
   "source": [
    "## Упражнение 3\n",
    "Постройте гистограмму по числу месяцев до первого взаимодействия студента с заданием"
   ]
  },
  {
   "cell_type": "code",
   "execution_count": 17,
   "id": "473eec0d",
   "metadata": {},
   "outputs": [],
   "source": [
    "days_histogram = df.select(col('timestamp') / 31536000000 / 12).rdd.flatMap(lambda x: x).histogram(100)"
   ]
  },
  {
   "cell_type": "code",
   "execution_count": 18,
   "id": "b53585b9",
   "metadata": {},
   "outputs": [],
   "source": [
    "import numpy as np"
   ]
  },
  {
   "cell_type": "code",
   "execution_count": 19,
   "id": "708c0046",
   "metadata": {},
   "outputs": [
    {
     "data": {
      "image/png": "[encoded data removed]",
      "text/plain": [
       "<Figure size 720x576 with 1 Axes>"
      ]
     },
     "metadata": {
      "needs_background": "light"
     },
     "output_type": "display_data"
    }
   ],
   "source": [
    "ax = pd.DataFrame(\n",
    "    list(zip(*days_histogram)), \n",
    "    columns=['bin', 'frequency']\n",
    ").set_index(\n",
    "    'bin'\n",
    ").plot(kind='bar', figsize=(10,8))\n",
    "ax.set_yscale('log')\n",
    "ax.xaxis.set_major_locator(plt.MultipleLocator(10))\n",
    "ax.xaxis.set_major_formatter(plt.FuncFormatter(lambda x, tick_num: np.round(x, 2)))"
   ]
  },
  {
   "cell_type": "markdown",
   "id": "ae0dd99a",
   "metadata": {},
   "source": [
    "## Упражнение 4\n",
    "В файле \"lectures.csv\" хранится информация об лекциях. Объедините эту таблицу с основным набором данных при условии, что content_type_id == 1."
   ]
  },
  {
   "cell_type": "code",
   "execution_count": 20,
   "id": "698a1a76",
   "metadata": {},
   "outputs": [],
   "source": [
    "lectures = spark.read.csv(\"lectures.csv\", header=True, inferSchema=True)"
   ]
  },
  {
   "cell_type": "code",
   "execution_count": 21,
   "id": "2fe7f914",
   "metadata": {},
   "outputs": [],
   "source": [
    "lec_df = (\n",
    "    df\n",
    "        .where(f.col(\"content_type_id\") == 1)\n",
    "        .join(lectures, df.content_id == lectures.lecture_id, 'left')\n",
    ")"
   ]
  },
  {
   "cell_type": "code",
   "execution_count": 22,
   "id": "e7adba56",
   "metadata": {},
   "outputs": [
    {
     "name": "stdout",
     "output_type": "stream",
     "text": [
      "CPU times: user 8.76 ms, sys: 347 µs, total: 9.11 ms\n",
      "Wall time: 14.2 s\n"
     ]
    },
    {
     "data": {
      "text/html": [
       "<div>\n",
       "<style scoped>\n",
       "    .dataframe tbody tr th:only-of-type {\n",
       "        vertical-align: middle;\n",
       "    }\n",
       "\n",
       "    .dataframe tbody tr th {\n",
       "        vertical-align: top;\n",
       "    }\n",
       "\n",
       "    .dataframe thead th {\n",
       "        text-align: right;\n",
       "    }\n",
       "</style>\n",
       "<table border=\"1\" class=\"dataframe\">\n",
       "  <thead>\n",
       "    <tr style=\"text-align: right;\">\n",
       "      <th></th>\n",
       "      <th>tag</th>\n",
       "      <th>count</th>\n",
       "    </tr>\n",
       "  </thead>\n",
       "  <tbody>\n",
       "    <tr>\n",
       "      <th>0</th>\n",
       "      <td>62</td>\n",
       "      <td>58869</td>\n",
       "    </tr>\n",
       "    <tr>\n",
       "      <th>1</th>\n",
       "      <td>27</td>\n",
       "      <td>52826</td>\n",
       "    </tr>\n",
       "    <tr>\n",
       "      <th>2</th>\n",
       "      <td>163</td>\n",
       "      <td>41668</td>\n",
       "    </tr>\n",
       "    <tr>\n",
       "      <th>3</th>\n",
       "      <td>136</td>\n",
       "      <td>41483</td>\n",
       "    </tr>\n",
       "    <tr>\n",
       "      <th>4</th>\n",
       "      <td>161</td>\n",
       "      <td>39884</td>\n",
       "    </tr>\n",
       "    <tr>\n",
       "      <th>5</th>\n",
       "      <td>26</td>\n",
       "      <td>38777</td>\n",
       "    </tr>\n",
       "    <tr>\n",
       "      <th>6</th>\n",
       "      <td>170</td>\n",
       "      <td>35855</td>\n",
       "    </tr>\n",
       "    <tr>\n",
       "      <th>7</th>\n",
       "      <td>94</td>\n",
       "      <td>34115</td>\n",
       "    </tr>\n",
       "    <tr>\n",
       "      <th>8</th>\n",
       "      <td>1</td>\n",
       "      <td>31699</td>\n",
       "    </tr>\n",
       "    <tr>\n",
       "      <th>9</th>\n",
       "      <td>73</td>\n",
       "      <td>30706</td>\n",
       "    </tr>\n",
       "  </tbody>\n",
       "</table>\n",
       "</div>"
      ],
      "text/plain": [
       "   tag  count\n",
       "0   62  58869\n",
       "1   27  52826\n",
       "2  163  41668\n",
       "3  136  41483\n",
       "4  161  39884\n",
       "5   26  38777\n",
       "6  170  35855\n",
       "7   94  34115\n",
       "8    1  31699\n",
       "9   73  30706"
      ]
     },
     "execution_count": 22,
     "metadata": {},
     "output_type": "execute_result"
    }
   ],
   "source": [
    "%%time\n",
    "(\n",
    "lec_df\n",
    "    .groupBy(\"tag\")\n",
    "    .count()\n",
    "    .orderBy(\"count\", ascending=False)\n",
    "    .limit(10)\n",
    "    .toPandas()\n",
    ")"
   ]
  },
  {
   "cell_type": "code",
   "execution_count": null,
   "id": "9cf5b4c9",
   "metadata": {},
   "outputs": [],
   "source": []
  }
 ],
 "metadata": {
  "kernelspec": {
   "display_name": "Python 3",
   "language": "python",
   "name": "python3"
  },
  "language_info": {
   "codemirror_mode": {
    "name": "ipython",
    "version": 3
   },
   "file_extension": ".py",
   "mimetype": "text/x-python",
   "name": "python",
   "nbconvert_exporter": "python",
   "pygments_lexer": "ipython3",
   "version": "3.8.10"
  }
 },
 "nbformat": 4,
 "nbformat_minor": 5
}
