{
 "cells": [
  {
   "cell_type": "markdown",
   "id": "76c5523a",
   "metadata": {},
   "source": [
    "# Подготовка данных"
   ]
  },
  {
   "cell_type": "markdown",
   "id": "ad83f483",
   "metadata": {},
   "source": [
    "## Считаем данные в исходном csv формате"
   ]
  },
  {
   "cell_type": "code",
   "execution_count": 1,
   "id": "fb571278",
   "metadata": {},
   "outputs": [
    {
     "name": "stdout",
     "output_type": "stream",
     "text": [
      "Defaulting to user installation because normal site-packages is not writeable\n",
      "Collecting findspark\n",
      "  Downloading findspark-2.0.1-py2.py3-none-any.whl (4.4 kB)\n",
      "Installing collected packages: findspark\n",
      "Successfully installed findspark-2.0.1\n"
     ]
    }
   ],
   "source": [
    "!pip install findspark"
   ]
  },
  {
   "cell_type": "markdown",
   "id": "4aea29b7",
   "metadata": {},
   "source": [
    "Перезапустить kernel после установки!"
   ]
  },
  {
   "cell_type": "code",
   "execution_count": 1,
   "id": "dbd680b3",
   "metadata": {},
   "outputs": [],
   "source": [
    "import findspark\n",
    "findspark.init()"
   ]
  },
  {
   "cell_type": "code",
   "execution_count": 6,
   "id": "8582f495",
   "metadata": {},
   "outputs": [
    {
     "name": "stdout",
     "output_type": "stream",
     "text": [
      "Found 1 items\n",
      "drwxr-xr-x   - ubuntu hadoop          0 2024-07-25 18:09 data\n"
     ]
    }
   ],
   "source": [
    "!hdfs dfs -ls"
   ]
  },
  {
   "cell_type": "code",
   "execution_count": 7,
   "id": "61924a77",
   "metadata": {},
   "outputs": [
    {
     "name": "stdout",
     "output_type": "stream",
     "text": [
      "Found 1 items\n",
      "-rw-r--r--   1 ubuntu hadoop 5846760913 2024-07-25 18:09 data/train.csv\n"
     ]
    }
   ],
   "source": [
    "!hdfs dfs -ls data"
   ]
  },
  {
   "cell_type": "markdown",
   "id": "b353884b",
   "metadata": {},
   "source": [
    "Создадим SparkSession"
   ]
  },
  {
   "cell_type": "code",
   "execution_count": 8,
   "id": "5a851f7c",
   "metadata": {},
   "outputs": [],
   "source": [
    "from pyspark.sql import SparkSession\n",
    "\n",
    "spark = (\n",
    "    SparkSession\n",
    "        .builder\n",
    "        .appName(\"OTUS\")\n",
    "        .getOrCreate()\n",
    ")"
   ]
  },
  {
   "cell_type": "markdown",
   "id": "af7d9429",
   "metadata": {},
   "source": [
    "Загрузим данные"
   ]
  },
  {
   "cell_type": "code",
   "execution_count": 9,
   "id": "f6b5fb82",
   "metadata": {},
   "outputs": [],
   "source": [
    "df = spark.read.csv(\"data/train.csv\", inferSchema=True, header=True)"
   ]
  },
  {
   "cell_type": "markdown",
   "id": "ed116eb1",
   "metadata": {},
   "source": [
    "Поделим данные на 10 разделов и сохраним в формате parquete"
   ]
  },
  {
   "cell_type": "code",
   "execution_count": 10,
   "id": "c61e2248",
   "metadata": {},
   "outputs": [
    {
     "name": "stdout",
     "output_type": "stream",
     "text": [
      "CPU times: user 5.03 ms, sys: 530 µs, total: 5.56 ms\n",
      "Wall time: 22.5 s\n"
     ]
    },
    {
     "data": {
      "text/plain": [
       "101230332"
      ]
     },
     "execution_count": 10,
     "metadata": {},
     "output_type": "execute_result"
    }
   ],
   "source": [
    "%%time\n",
    "df.count()"
   ]
  },
  {
   "cell_type": "code",
   "execution_count": 11,
   "id": "2ee16ab2",
   "metadata": {},
   "outputs": [],
   "source": [
    "(\n",
    "    df\n",
    "        .repartition(10)\n",
    "        .write\n",
    "        .mode(\"overwrite\")\n",
    "        .parquet(\"data/train.parquet\")\n",
    ")"
   ]
  },
  {
   "cell_type": "markdown",
   "id": "cc5b5e8f",
   "metadata": {},
   "source": [
    "Проверим размер сохраненного файла"
   ]
  },
  {
   "cell_type": "code",
   "execution_count": 12,
   "id": "5dae6028",
   "metadata": {},
   "outputs": [
    {
     "name": "stdout",
     "output_type": "stream",
     "text": [
      "Found 11 items\n",
      "-rw-r--r--   1 ubuntu hadoop          0 2024-07-25 18:20 data/train.parquet/_SUCCESS\n",
      "-rw-r--r--   1 ubuntu hadoop    181.0 M 2024-07-25 18:20 data/train.parquet/part-00000-ffcd8b6c-38f9-4c2e-8ccc-56e56aa4f540-c000.snappy.parquet\n",
      "-rw-r--r--   1 ubuntu hadoop    181.0 M 2024-07-25 18:20 data/train.parquet/part-00001-ffcd8b6c-38f9-4c2e-8ccc-56e56aa4f540-c000.snappy.parquet\n",
      "-rw-r--r--   1 ubuntu hadoop    181.2 M 2024-07-25 18:20 data/train.parquet/part-00002-ffcd8b6c-38f9-4c2e-8ccc-56e56aa4f540-c000.snappy.parquet\n",
      "-rw-r--r--   1 ubuntu hadoop    181.0 M 2024-07-25 18:20 data/train.parquet/part-00003-ffcd8b6c-38f9-4c2e-8ccc-56e56aa4f540-c000.snappy.parquet\n",
      "-rw-r--r--   1 ubuntu hadoop    181.0 M 2024-07-25 18:20 data/train.parquet/part-00004-ffcd8b6c-38f9-4c2e-8ccc-56e56aa4f540-c000.snappy.parquet\n",
      "-rw-r--r--   1 ubuntu hadoop    181.2 M 2024-07-25 18:20 data/train.parquet/part-00005-ffcd8b6c-38f9-4c2e-8ccc-56e56aa4f540-c000.snappy.parquet\n",
      "-rw-r--r--   1 ubuntu hadoop    181.1 M 2024-07-25 18:20 data/train.parquet/part-00006-ffcd8b6c-38f9-4c2e-8ccc-56e56aa4f540-c000.snappy.parquet\n",
      "-rw-r--r--   1 ubuntu hadoop    181.2 M 2024-07-25 18:20 data/train.parquet/part-00007-ffcd8b6c-38f9-4c2e-8ccc-56e56aa4f540-c000.snappy.parquet\n",
      "-rw-r--r--   1 ubuntu hadoop    181.0 M 2024-07-25 18:20 data/train.parquet/part-00008-ffcd8b6c-38f9-4c2e-8ccc-56e56aa4f540-c000.snappy.parquet\n",
      "-rw-r--r--   1 ubuntu hadoop    181.2 M 2024-07-25 18:20 data/train.parquet/part-00009-ffcd8b6c-38f9-4c2e-8ccc-56e56aa4f540-c000.snappy.parquet\n"
     ]
    }
   ],
   "source": [
    "!hdfs dfs -ls -h data/train.parquet"
   ]
  },
  {
   "cell_type": "markdown",
   "id": "76e2e9e6",
   "metadata": {},
   "source": [
    "Сравним скорость посчета строк из parquet"
   ]
  },
  {
   "cell_type": "code",
   "execution_count": 13,
   "id": "1f5332d6",
   "metadata": {},
   "outputs": [],
   "source": [
    "df_from_parquet = spark.read.parquet(\"data/train.parquet\")"
   ]
  },
  {
   "cell_type": "code",
   "execution_count": 14,
   "id": "f983a7e9",
   "metadata": {},
   "outputs": [
    {
     "name": "stdout",
     "output_type": "stream",
     "text": [
      "CPU times: user 0 ns, sys: 2 ms, total: 2 ms\n",
      "Wall time: 876 ms\n"
     ]
    },
    {
     "data": {
      "text/plain": [
       "101230332"
      ]
     },
     "execution_count": 14,
     "metadata": {},
     "output_type": "execute_result"
    }
   ],
   "source": [
    "%%time\n",
    "df_from_parquet.count()"
   ]
  },
  {
   "cell_type": "code",
   "execution_count": null,
   "id": "6e98217c",
   "metadata": {},
   "outputs": [],
   "source": []
  }
 ],
 "metadata": {
  "kernelspec": {
   "display_name": "Python 3",
   "language": "python",
   "name": "python3"
  }
 },
 "nbformat": 4,
 "nbformat_minor": 5
}
